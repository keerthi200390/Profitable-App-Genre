{
 "cells": [
  {
   "cell_type": "markdown",
   "metadata": {},
   "source": [
    "# Finding Profitable App Genre - Google Play & App Store Market\n",
    "\n",
    "My goal in this project is to find the genre(ex: Games, Books, News etc) of app's that will be profitable on both Google Play and the iOS App Store markets.This will help freelance app developers to make better data driven decision on the kind of apps they would like to develop to be profitable.\n",
    "\n",
    "We will analyse data about Google Play and App Store apps and try to find:\n",
    "\n",
    "* Most common apps by genre on both the markets\n",
    "* Most popular apps by genre on both the markets\n",
    "\n",
    "### Summary of Results\n",
    "\n",
    "After analyzing the data, we found that taking a recent popular book and turning it into an app will be profitable on both the markets. We also recommend adding several features to the app. For more details, please refer to the full analysis below.\n",
    "\n",
    "\n",
    "## Data Set\n",
    "\n",
    "Both Google Play and App Store have more than 2 million apps each. Gathering data for these 4+ million apps will be resource intense and hence we decided to analyse sample of data that we located on Kaggle.\n",
    "\n",
    "* This [data set](https://www.kaggle.com/lava18/google-play-store-apps) contains data about 10,000+ Android apps on the Google Play.\n",
    "\n",
    "* This [data set](https://www.kaggle.com/ramamet4/app-store-apple-data-set-10k-apps) contains data about 7,000+ iOS apps on the App Store.\n",
    "\n",
    "## Exploring the Data set\n",
    "\n",
    "We will start by opening the two data set files that we are going to analyse."
   ]
  },
  {
   "cell_type": "code",
   "execution_count": 1,
   "metadata": {
    "collapsed": true
   },
   "outputs": [],
   "source": [
    "#Opening the Google Play data set\n",
    "open_android = open(\"googleplaystore.csv\")\n",
    "from csv import reader\n",
    "android_reader = reader(open_android)\n",
    "android = list(android_reader)  \n",
    "\n",
    "#Opening the iOS App Store data set\n",
    "open_ios = open(\"AppleStore.csv\")\n",
    "ios_reader = reader(open_ios)\n",
    "ios = list(ios_reader)\n",
    "\n"
   ]
  },
  {
   "cell_type": "markdown",
   "metadata": {},
   "source": [
    " To make our analysis easier, let's write a small function named app_info that will return the app information we want for any data set. Apart from it, this function will also return the total number of app's in that particular data set if needed. "
   ]
  },
  {
   "cell_type": "code",
   "execution_count": 2,
   "metadata": {
    "collapsed": false
   },
   "outputs": [],
   "source": [
    "#Function to return app information\n",
    "def app_info(dataset, start, finish, length= False):\n",
    "    for each_app in dataset[start:finish+1]:\n",
    "        print(each_app)\n",
    "        print(\"\\n\")\n",
    "        \n",
    "    if length == True:\n",
    "        print(\"Total number of apps: \", len(dataset[1:]))\n",
    "        "
   ]
  },
  {
   "cell_type": "markdown",
   "metadata": {},
   "source": [
    "We will use the above function to print few apps from both the data set to see how the information looks like."
   ]
  },
  {
   "cell_type": "code",
   "execution_count": 3,
   "metadata": {
    "collapsed": false
   },
   "outputs": [
    {
     "name": "stdout",
     "output_type": "stream",
     "text": [
      "['App', 'Category', 'Rating', 'Reviews', 'Size', 'Installs', 'Type', 'Price', 'Content Rating', 'Genres', 'Last Updated', 'Current Ver', 'Android Ver']\n",
      "\n",
      "\n",
      "['Photo Editor & Candy Camera & Grid & ScrapBook', 'ART_AND_DESIGN', '4.1', '159', '19M', '10,000+', 'Free', '0', 'Everyone', 'Art & Design', 'January 7, 2018', '1.0.0', '4.0.3 and up']\n",
      "\n",
      "\n",
      "['Coloring book moana', 'ART_AND_DESIGN', '3.9', '967', '14M', '500,000+', 'Free', '0', 'Everyone', 'Art & Design;Pretend Play', 'January 15, 2018', '2.0.0', '4.0.3 and up']\n",
      "\n",
      "\n",
      "['U Launcher Lite – FREE Live Cool Themes, Hide Apps', 'ART_AND_DESIGN', '4.7', '87510', '8.7M', '5,000,000+', 'Free', '0', 'Everyone', 'Art & Design', 'August 1, 2018', '1.2.4', '4.0.3 and up']\n",
      "\n",
      "\n",
      "Total number of apps:  10841\n"
     ]
    }
   ],
   "source": [
    "##Using app_info function to print Android apps\n",
    "app_info(android, 0, 3, True)\n"
   ]
  },
  {
   "cell_type": "markdown",
   "metadata": {},
   "source": [
    "As we above, there are total of 10,841 Android apps. The app contains information like name, size, number of reviews, installs, average rating to name a few.\n",
    "\n",
    "Now lets see how may iOS apps we have for analysis and see how it looks like."
   ]
  },
  {
   "cell_type": "code",
   "execution_count": 4,
   "metadata": {
    "collapsed": false
   },
   "outputs": [
    {
     "name": "stdout",
     "output_type": "stream",
     "text": [
      "['id', 'track_name', 'size_bytes', 'currency', 'price', 'rating_count_tot', 'rating_count_ver', 'user_rating', 'user_rating_ver', 'ver', 'cont_rating', 'prime_genre', 'sup_devices.num', 'ipadSc_urls.num', 'lang.num', 'vpp_lic']\n",
      "\n",
      "\n",
      "['284882215', 'Facebook', '389879808', 'USD', '0.0', '2974676', '212', '3.5', '3.5', '95.0', '4+', 'Social Networking', '37', '1', '29', '1']\n",
      "\n",
      "\n",
      "['389801252', 'Instagram', '113954816', 'USD', '0.0', '2161558', '1289', '4.5', '4.0', '10.23', '12+', 'Photo & Video', '37', '0', '29', '1']\n",
      "\n",
      "\n",
      "['529479190', 'Clash of Clans', '116476928', 'USD', '0.0', '2130805', '579', '4.5', '4.5', '9.24.12', '9+', 'Games', '38', '5', '18', '1']\n",
      "\n",
      "\n",
      "Total number of apps:  7197\n"
     ]
    }
   ],
   "source": [
    "#Using app_info function to print iOS apps\n",
    "app_info(ios, 0, 3, True)"
   ]
  },
  {
   "cell_type": "markdown",
   "metadata": {},
   "source": [
    "We have 7197 iOS apps in our App Store data set and it contains information's like name, size, price, total number of ratings, average rating, genre etc.\n",
    "\n",
    "One thing to note in App Store data set is that, it does not contain number of install information like we had for Google Play data set. "
   ]
  },
  {
   "cell_type": "markdown",
   "metadata": {},
   "source": [
    "## Data Cleaning\n",
    "\n",
    " The most underrated process in a data analysis task is cleaning of data. Before we start analyzing our data, we need to be sure that the data is free of errors, misinformation's and duplicates. Else our analysis would be inaccurate and can lead to false conclusions. So it is very important that we take time to clean and make our data set ready for further analysis. \n",
    "\n",
    "### Remove Inaccurate Data\n",
    "\n",
    "First step in the data cleaning process is to find out if there are app's in the data set that has any missing information."
   ]
  },
  {
   "cell_type": "code",
   "execution_count": 5,
   "metadata": {
    "collapsed": false
   },
   "outputs": [
    {
     "name": "stdout",
     "output_type": "stream",
     "text": [
      "['Life Made WI-Fi Touchscreen Photo Frame', '1.9', '19', '3.0M', '1,000+', 'Free', '0', 'Everyone', '', 'February 11, 2018', '1.0.19', '4.0 and up']\n",
      "length of this row:  12\n",
      "Index of inaccurate app is:  10473\n",
      "\n",
      "\n",
      "['App', 'Category', 'Rating', 'Reviews', 'Size', 'Installs', 'Type', 'Price', 'Content Rating', 'Genres', 'Last Updated', 'Current Ver', 'Android Ver']\n",
      "length of the header:  13\n"
     ]
    }
   ],
   "source": [
    "##Find inaccurate app in Google Play\n",
    "for each in android[1:]:\n",
    "    if len(each) != len(android[0]):\n",
    "        print(each)\n",
    "        print(\"length of this row: \", len(each))\n",
    "        print(\"Index of inaccurate app is: \", android.index(each))\n",
    "        print(\"\\n\")\n",
    "        print(android[0])\n",
    "        print(\"length of the header: \", len(android[0]))"
   ]
  },
  {
   "cell_type": "markdown",
   "metadata": {},
   "source": [
    "As we see, information of the app named \"Life Made WI-Fi Touchscreen Photo Frame\" on the Google Play data set is inaccurate as it is missing one of the information. The app has only 12 columns against the 13 we have for the header of Google Play data set. So we better of remove this app as we dont know which information is missing."
   ]
  },
  {
   "cell_type": "code",
   "execution_count": 6,
   "metadata": {
    "collapsed": false
   },
   "outputs": [
    {
     "name": "stdout",
     "output_type": "stream",
     "text": [
      "Number of apps before deleting:  10841\n",
      "Number of apps after deleting:  10840\n"
     ]
    }
   ],
   "source": [
    "## Removing \"Life Made WI-Fi Touchscreen Photo Frame\" app\n",
    "print(\"Number of apps before deleting: \", len(android[1:]))\n",
    "del android[10473] \n",
    "print(\"Number of apps after deleting: \",len(android[1:]))"
   ]
  },
  {
   "cell_type": "code",
   "execution_count": 7,
   "metadata": {
    "collapsed": false
   },
   "outputs": [],
   "source": [
    "##Find inaccurate app information in App Store\n",
    "for each in ios[1:]:\n",
    "    if len(each) != len(ios[0]):\n",
    "        print(each)\n",
    "        print(\"length of this row: \", len(each))\n",
    "        print(\"Index of inaccurate app is: \", ios.index(each))\n",
    "        print(\"\\n\")\n",
    "        print(ios[0])\n",
    "        print(\"length of the header: \", len(ios[0]))"
   ]
  },
  {
   "cell_type": "markdown",
   "metadata": {},
   "source": [
    "There is no app(s) on the App Store that is missing information.\n",
    "\n",
    "### Deleting Duplicate App(s)\n",
    "\n",
    "Next step in data cleaning is to locate apps that occur more than ones and find a way to remove those duplicates. For example the app \"Google Ads\" occur thrice in Google Play data set as we see below."
   ]
  },
  {
   "cell_type": "code",
   "execution_count": 8,
   "metadata": {
    "collapsed": false
   },
   "outputs": [
    {
     "name": "stdout",
     "output_type": "stream",
     "text": [
      "['Google Ads', 'BUSINESS', '4.3', '29313', '20M', '5,000,000+', 'Free', '0', 'Everyone', 'Business', 'July 30, 2018', '1.12.0', '4.0.3 and up']\n",
      "['Google Ads', 'BUSINESS', '4.3', '29313', '20M', '5,000,000+', 'Free', '0', 'Everyone', 'Business', 'July 30, 2018', '1.12.0', '4.0.3 and up']\n",
      "['Google Ads', 'BUSINESS', '4.3', '29331', '20M', '5,000,000+', 'Free', '0', 'Everyone', 'Business', 'July 30, 2018', '1.12.0', '4.0.3 and up']\n"
     ]
    }
   ],
   "source": [
    "for each_app in android[1:]:\n",
    "    name = each_app[0]\n",
    "    if name == \"Google Ads\":\n",
    "        print(each_app)"
   ]
  },
  {
   "cell_type": "markdown",
   "metadata": {},
   "source": [
    "Now lets find how many duplicate entries are there in each of the data sets."
   ]
  },
  {
   "cell_type": "code",
   "execution_count": 9,
   "metadata": {
    "collapsed": false,
    "scrolled": true
   },
   "outputs": [
    {
     "name": "stdout",
     "output_type": "stream",
     "text": [
      "Number of duplicate apps in Google Play:  1181\n",
      "\n",
      "\n",
      "Number of unique apps in Google Play:  9659\n",
      "\n",
      "\n",
      "Number of duplicate apps in App Store:  2\n",
      "\n",
      "\n",
      "Number of unique apps in App Store:  7195\n"
     ]
    }
   ],
   "source": [
    "## Finding number of duplicate apps in the Google Play\n",
    "duplicate_app_google = []\n",
    "unique_app_google = []\n",
    "for each_row in android[1:]:\n",
    "    name = each_row[0]\n",
    "    if name in unique_app_google:\n",
    "        duplicate_app_google.append(name)\n",
    "    else:\n",
    "        unique_app_google.append(name)\n",
    "        \n",
    "print(\"Number of duplicate apps in Google Play: \", len(duplicate_app_google))\n",
    "print(\"\\n\")\n",
    "print(\"Number of unique apps in Google Play: \", len(unique_app_google))\n",
    "\n",
    "## Finding number of duplicate apps in the App Store\n",
    "duplicate_app_apple = []\n",
    "unique_app_apple = []\n",
    "for each_row in ios[1:]:\n",
    "    name = each_row[1]\n",
    "    if name in unique_app_apple:\n",
    "        duplicate_app_apple.append(name)\n",
    "    else:\n",
    "        unique_app_apple.append(name)\n",
    "\n",
    "print(\"\\n\")        \n",
    "print(\"Number of duplicate apps in App Store: \", len(duplicate_app_apple))\n",
    "print(\"\\n\")\n",
    "print(\"Number of unique apps in App Store: \", len(unique_app_apple))\n",
    "\n",
    "\n",
    "        "
   ]
  },
  {
   "cell_type": "markdown",
   "metadata": {},
   "source": [
    "We can see that there are 1181 duplicate apps in the Google Play data set. App Store is much better and contains only 2 duplicate entries.\n",
    "\n",
    "We need to keep only 1 entry per app and delete all the duplicate ones. If you see the \"Google Ads\" we printed above, there are 2 duplicates and the difference between the apps happen at 4th column which is the total number of reviews. So we can keep the app that has the highest number of reviews and delete the remaining ones. Higher the number of reviews the latest the information of the app should be.\n",
    "\n",
    "We will also follow the same procedure for App Store data set to keep the unique apps.\n",
    "\n",
    "Lets start by creating a dictionary where keys will be the unique app name and the values will be the highest review count for that app."
   ]
  },
  {
   "cell_type": "code",
   "execution_count": 10,
   "metadata": {
    "collapsed": false
   },
   "outputs": [
    {
     "name": "stdout",
     "output_type": "stream",
     "text": [
      "Number of unique Google apps extracted:  9659\n"
     ]
    }
   ],
   "source": [
    "#Finding number of unique apps in Google Play\n",
    "google_unique_app = {}\n",
    "for each_row in android[1:]:\n",
    "    name = each_row[0]\n",
    "    reviews = float(each_row[3])\n",
    "    if name in google_unique_app and reviews > google_unique_app[name]:\n",
    "        google_unique_app[name] = reviews\n",
    "    elif name not in google_unique_app:\n",
    "        google_unique_app[name] = reviews\n",
    "        \n",
    "print(\"Number of unique Google apps extracted: \", len(google_unique_app))"
   ]
  },
  {
   "cell_type": "markdown",
   "metadata": {},
   "source": [
    "As we can see, the number of unique apps in the dictionary is 9659 which is same as what we found in the previous code cell.\n",
    "\n",
    "Now let us use this dictionary to create a list, with all the rows of the unique apps having the highest number of reviews."
   ]
  },
  {
   "cell_type": "code",
   "execution_count": 11,
   "metadata": {
    "collapsed": false
   },
   "outputs": [
    {
     "name": "stdout",
     "output_type": "stream",
     "text": [
      "Number of Google Play apps : 9659\n"
     ]
    }
   ],
   "source": [
    "unique_google = []\n",
    "already_added = []\n",
    "for each_row in android[1:]:\n",
    "    name = each_row[0]\n",
    "    review = float(each_row[3])\n",
    "    if google_unique_app[name] == review and name not in already_added:\n",
    "        unique_google.append(each_row)\n",
    "        already_added.append(name)\n",
    "\n",
    "print(\"Number of Google Play apps :\", len(unique_google))\n",
    "        "
   ]
  },
  {
   "cell_type": "markdown",
   "metadata": {},
   "source": [
    "Now lets do the same code for App Store data set and extract the unique app having the highest review. The number of reviews is found at column 6 in the App Store data set and hence we will modify our code accordingly."
   ]
  },
  {
   "cell_type": "code",
   "execution_count": 12,
   "metadata": {
    "collapsed": false
   },
   "outputs": [
    {
     "name": "stdout",
     "output_type": "stream",
     "text": [
      "Number of unique iOS apps extracted:  7195\n",
      "Number of App Store apps : 7195\n"
     ]
    }
   ],
   "source": [
    "apple_unique_app = {}\n",
    "for each_row in ios[1:]:\n",
    "    name = each_row[1]\n",
    "    reviews = float(each_row[5])\n",
    "    if name in apple_unique_app and reviews > apple_unique_app[name]:\n",
    "        apple_unique_app[name] = reviews\n",
    "    elif name not in apple_unique_app:\n",
    "        apple_unique_app[name] = reviews\n",
    "        \n",
    "print(\"Number of unique iOS apps extracted: \", len(apple_unique_app))\n",
    "\n",
    "unique_apple = []\n",
    "already_added = []\n",
    "for each_row in ios[1:]:\n",
    "    name = each_row[1]\n",
    "    review = float(each_row[5])\n",
    "    if apple_unique_app[name] == review and name not in already_added:\n",
    "        unique_apple.append(each_row)\n",
    "        already_added.append(name)\n",
    "\n",
    "print(\"Number of App Store apps :\", len(unique_apple))\n",
    "        "
   ]
  },
  {
   "cell_type": "markdown",
   "metadata": {
    "collapsed": true
   },
   "source": [
    "### Removing Non-English Apps\n",
    "\n",
    "There are several non-english apps in both the data set. For example:\n",
    "\n",
    "['Cъновник BG', 'BOOKS_AND_REFERENCE', 'NaN', '13', '4.1M', '1,000+', 'Free', '0', 'Everyone', 'Books & Reference', 'January 21, 2017', '250', '4.0 and up']\n",
    "\n",
    "['뽕티비 - 개인방송, 인터넷방송, BJ방송', 'VIDEO_PLAYERS', 'NaN', '414', '59M', '100,000+', 'Free', '0', 'Mature 17+', 'Video Players & Editors', 'July 18, 2018', '4.0.7', '4.0.3 and up']\n",
    "\n",
    "['BL 女性向け恋愛ゲーム◆俺プリクロス', 'FAMILY', '4.2', '3379', '62M', '100,000+', 'Free', '0', 'Mature 17+', 'Simulation', 'March 23, 2017', '1.6.3', '2.3.3 and up']\n",
    "\n",
    "This project mainly caters to English speaking audience and hence it makes no sense to analyse app's that are not in English. So as part of data cleaning, we will remove all the non-english apps.\n",
    "\n",
    "Each alphabet we type in computer corresponds to a number called \"ASCII\" value. The texts we normally use in English(letters, numbers, punctutaions and other symbols) sits in the ASCII range of 0 - 127.\n",
    "\n",
    "The logic is to go through each row on both the data sets and extract the name of the app and check if the ASCII value of each of their characters are > 127. if it's greater than 127 we will remove those apps.\n",
    "\n",
    "However certain English apps still have some characters in their name whose ASCII value are greater than 127. For example:\n",
    "\n",
    "['**FlirtChat - ♥Free Dating/Flirting App♥**', 'DATING', '4.3', '2433', '13M', '500,000+', 'Free', '0', 'Mature 17+', 'Dating', 'July 26, 2018', '12.0.4', '4.1 and up']\n",
    "\n",
    "if you see the app above,  we are sure that the app is English but the ASCII value of  two ♥ characters we have in the name, is 9829. So going by our rule, our code will also remove apps like these, since one of the characters in the name field has ASCII value greateer than 127.\n",
    "\n",
    "So we will modify our code in such a way that, our program will remove the apps only if the app name have more than 3 ASCII characters whose values are greater than 127. By this way we can keep most of the english apps that have special characters in their names like we saw above. \n"
   ]
  },
  {
   "cell_type": "code",
   "execution_count": 13,
   "metadata": {
    "collapsed": false
   },
   "outputs": [
    {
     "name": "stdout",
     "output_type": "stream",
     "text": [
      "Number of English apps in the Goole Play:  9614\n"
     ]
    }
   ],
   "source": [
    "##Removing non-English app from the Google Play\n",
    "google_english = []\n",
    "for each_app in unique_google:\n",
    "    name = each_app[0]\n",
    "    count = 0\n",
    "    for each in name:\n",
    "        if ord(each) > 127:\n",
    "            count += 1\n",
    "    if count <= 3:\n",
    "        google_english.append(each_app)\n",
    "        \n",
    "print(\"Number of English apps in the Goole Play: \", len(google_english))"
   ]
  },
  {
   "cell_type": "markdown",
   "metadata": {},
   "source": [
    "As we see, against the original 9659 apps we are left with 9614 apps after removing the non-english apps. Now lets do the same for apps in the App Store"
   ]
  },
  {
   "cell_type": "code",
   "execution_count": 14,
   "metadata": {
    "collapsed": false
   },
   "outputs": [
    {
     "name": "stdout",
     "output_type": "stream",
     "text": [
      "Number of English apps in the App Store:  6181\n"
     ]
    }
   ],
   "source": [
    "##Removing non-English app from the App Store\n",
    "ios_english = []\n",
    "for each_app in unique_apple:\n",
    "    name = each_app[1]\n",
    "    count = 0\n",
    "    for each in name:\n",
    "        if ord(each) > 127:\n",
    "            count += 1\n",
    "    if count <= 3:\n",
    "        ios_english.append(each_app)\n",
    "        \n",
    "print(\"Number of English apps in the App Store: \", len(ios_english))"
   ]
  },
  {
   "cell_type": "markdown",
   "metadata": {},
   "source": [
    "So we have removed quite a few apps from the App Store and finally left with 6181 english apps.\n",
    "\n",
    "Our code may still have few non english apps and there is also a possibility that we might have left few english apps, but that should not have any significant bearing in the outcome of our analysis.\n",
    "\n",
    "### Removing paid Apps\n",
    "\n",
    "Almost all the freelancers that we know of, wants to build only free apps since that will bring in more number of users against a paid one for which users expectations will be higher and also require significant maintenance costs. Most of the freelancers are students and hence they prefer developing a free app.\n",
    "\n",
    "So success of any free app depends up on the number of users downloads it and the revenue comes form the in-app ads. So more the number of users download and use the app, more is the revenue.\n",
    "\n",
    "So for the reasons said above, we will remove the paid apps from both the data sets.\n"
   ]
  },
  {
   "cell_type": "code",
   "execution_count": 15,
   "metadata": {
    "collapsed": false,
    "scrolled": false
   },
   "outputs": [
    {
     "name": "stdout",
     "output_type": "stream",
     "text": [
      "Number of Android apps after cleaning:  8864\n",
      "Number of iOS apps after cleaning:  3220\n"
     ]
    }
   ],
   "source": [
    "## Removing paid apps from the google data set\n",
    "android_final = []\n",
    "for each_app in google_english:\n",
    "    if each_app[7] == \"0\":\n",
    "        android_final.append(each_app)\n",
    "\n",
    "print(\"Number of Android apps after cleaning: \", len(android_final))\n",
    "\n",
    "## Removing paid apps from the apple data set\n",
    "ios_final = []\n",
    "for each_app in ios_english:\n",
    "    if each_app[4] == \"0.0\":\n",
    "        ios_final.append(each_app)\n",
    "print(\"Number of iOS apps after cleaning: \", len(ios_final))    "
   ]
  },
  {
   "cell_type": "markdown",
   "metadata": {},
   "source": [
    "After removing the paid apps, we are left with 8864 Android apps and 3220 iOS apps.\n",
    "\n",
    "With this, the data cleaning process is complete."
   ]
  },
  {
   "cell_type": "markdown",
   "metadata": {},
   "source": [
    "## Data Analysis\n",
    "\n",
    "As said in the introduction, our goal is to find the type of apps that will be profitable on both the markets. Since we are dealing only with free apps, the revenue of any free apps depends on the number of users using the app.\n",
    "\n",
    "### Most Common App by Genre\n",
    "\n",
    "So lets start our data analysis by.finding what genre of apps are very common on two markets. The genre information for Android is on index 9 and for iOS it is on index 11.\n",
    "\n",
    "We will be creating two functions ; one to create a frequency table for any rows we want and the next function to sort and print the frequenct table in descending order so that it wil be readable."
   ]
  },
  {
   "cell_type": "code",
   "execution_count": 16,
   "metadata": {
    "collapsed": true
   },
   "outputs": [],
   "source": [
    "## Function to create frequency table\n",
    "def freq_table(dataset, index):\n",
    "    frequency_table = {}\n",
    "    for each_app in dataset:\n",
    "        column = each_app[index]\n",
    "        if column in frequency_table:\n",
    "            frequency_table[column] += 1\n",
    "        else:\n",
    "            frequency_table[column] = 1\n",
    "            \n",
    "    for each_item in frequency_table:\n",
    "        frequency_table[each_item] /= len(dataset)\n",
    "        frequency_table[each_item] *= 100\n",
    "        \n",
    "    return frequency_table\n",
    "\n",
    "## Function to sort the above frequency table in descending order\n",
    "def sort(dataset, index):\n",
    "    frequency_table = freq_table(dataset, index)\n",
    "    list_freq = []\n",
    "    for each in frequency_table:\n",
    "        freq_temp = [frequency_table[each], each]\n",
    "        list_freq.append(freq_temp)\n",
    "        \n",
    "    sort_freq = sorted(list_freq, reverse = True)\n",
    "    for each in sort_freq:\n",
    "        print(each[1], \" : \", each[0])"
   ]
  },
  {
   "cell_type": "code",
   "execution_count": 17,
   "metadata": {
    "collapsed": false,
    "scrolled": true
   },
   "outputs": [
    {
     "name": "stdout",
     "output_type": "stream",
     "text": [
      "Games  :  58.13664596273293\n",
      "Entertainment  :  7.888198757763975\n",
      "Photo & Video  :  4.968944099378882\n",
      "Education  :  3.6645962732919255\n",
      "Social Networking  :  3.291925465838509\n",
      "Shopping  :  2.608695652173913\n",
      "Utilities  :  2.515527950310559\n",
      "Sports  :  2.142857142857143\n",
      "Music  :  2.049689440993789\n",
      "Health & Fitness  :  2.018633540372671\n",
      "Productivity  :  1.7391304347826086\n",
      "Lifestyle  :  1.5838509316770186\n",
      "News  :  1.3354037267080745\n",
      "Travel  :  1.2422360248447204\n",
      "Finance  :  1.1180124223602486\n",
      "Weather  :  0.8695652173913043\n",
      "Food & Drink  :  0.8074534161490683\n",
      "Reference  :  0.5590062111801243\n",
      "Business  :  0.5279503105590062\n",
      "Book  :  0.43478260869565216\n",
      "Navigation  :  0.18633540372670807\n",
      "Medical  :  0.18633540372670807\n",
      "Catalogs  :  0.12422360248447205\n"
     ]
    }
   ],
   "source": [
    "sort(ios_final, 11)"
   ]
  },
  {
   "cell_type": "markdown",
   "metadata": {},
   "source": [
    "As we see, among the Free English apps more than half(58 %) of them belongs to *Games* category, followed by *Entertainment* at a distant second (~ 8 %). *Photo & Video* takes 3rd place with ~ 9%. \n",
    "\n",
    "So we can see that almost 70% of the apps belongs to fun category(Games, Entertainment, Photos).\n",
    "\n",
    "Now lets take a look at Android market."
   ]
  },
  {
   "cell_type": "code",
   "execution_count": 18,
   "metadata": {
    "collapsed": false
   },
   "outputs": [
    {
     "name": "stdout",
     "output_type": "stream",
     "text": [
      "Tools  :  8.449909747292418\n",
      "Entertainment  :  6.069494584837545\n",
      "Education  :  5.347472924187725\n",
      "Business  :  4.591606498194946\n",
      "Productivity  :  3.892148014440433\n",
      "Lifestyle  :  3.892148014440433\n",
      "Finance  :  3.7003610108303246\n",
      "Medical  :  3.531137184115524\n",
      "Sports  :  3.463447653429603\n",
      "Personalization  :  3.3167870036101084\n",
      "Communication  :  3.2378158844765346\n",
      "Action  :  3.1024368231046933\n",
      "Health & Fitness  :  3.0798736462093865\n",
      "Photography  :  2.944494584837545\n",
      "News & Magazines  :  2.7978339350180503\n",
      "Social  :  2.6624548736462095\n",
      "Travel & Local  :  2.3240072202166067\n",
      "Shopping  :  2.2450361010830324\n",
      "Books & Reference  :  2.1435018050541514\n",
      "Simulation  :  2.0419675090252705\n",
      "Dating  :  1.861462093862816\n",
      "Arcade  :  1.8501805054151623\n",
      "Video Players & Editors  :  1.7712093862815883\n",
      "Casual  :  1.7599277978339352\n",
      "Maps & Navigation  :  1.3989169675090252\n",
      "Food & Drink  :  1.2409747292418771\n",
      "Puzzle  :  1.128158844765343\n",
      "Racing  :  0.9927797833935018\n",
      "Role Playing  :  0.9363718411552346\n",
      "Libraries & Demo  :  0.9363718411552346\n",
      "Auto & Vehicles  :  0.9250902527075812\n",
      "Strategy  :  0.9138086642599278\n",
      "House & Home  :  0.8235559566787004\n",
      "Weather  :  0.8009927797833934\n",
      "Events  :  0.7107400722021661\n",
      "Adventure  :  0.6768953068592057\n",
      "Comics  :  0.6092057761732852\n",
      "Beauty  :  0.5979241877256317\n",
      "Art & Design  :  0.5979241877256317\n",
      "Parenting  :  0.4963898916967509\n",
      "Card  :  0.45126353790613716\n",
      "Casino  :  0.42870036101083037\n",
      "Trivia  :  0.41741877256317694\n",
      "Educational;Education  :  0.39485559566787\n",
      "Board  :  0.3835740072202166\n",
      "Educational  :  0.3722924187725632\n",
      "Education;Education  :  0.33844765342960287\n",
      "Word  :  0.2594765342960289\n",
      "Casual;Pretend Play  :  0.236913357400722\n",
      "Music  :  0.2030685920577617\n",
      "Racing;Action & Adventure  :  0.16922382671480143\n",
      "Puzzle;Brain Games  :  0.16922382671480143\n",
      "Entertainment;Music & Video  :  0.16922382671480143\n",
      "Casual;Brain Games  :  0.13537906137184114\n",
      "Casual;Action & Adventure  :  0.13537906137184114\n",
      "Arcade;Action & Adventure  :  0.12409747292418773\n",
      "Action;Action & Adventure  :  0.10153429602888085\n",
      "Educational;Pretend Play  :  0.09025270758122744\n",
      "Simulation;Action & Adventure  :  0.078971119133574\n",
      "Parenting;Education  :  0.078971119133574\n",
      "Entertainment;Brain Games  :  0.078971119133574\n",
      "Board;Brain Games  :  0.078971119133574\n",
      "Parenting;Music & Video  :  0.06768953068592057\n",
      "Educational;Brain Games  :  0.06768953068592057\n",
      "Casual;Creativity  :  0.06768953068592057\n",
      "Art & Design;Creativity  :  0.06768953068592057\n",
      "Education;Pretend Play  :  0.056407942238267145\n",
      "Role Playing;Pretend Play  :  0.04512635379061372\n",
      "Education;Creativity  :  0.04512635379061372\n",
      "Role Playing;Action & Adventure  :  0.033844765342960284\n",
      "Puzzle;Action & Adventure  :  0.033844765342960284\n",
      "Entertainment;Creativity  :  0.033844765342960284\n",
      "Entertainment;Action & Adventure  :  0.033844765342960284\n",
      "Educational;Creativity  :  0.033844765342960284\n",
      "Educational;Action & Adventure  :  0.033844765342960284\n",
      "Education;Music & Video  :  0.033844765342960284\n",
      "Education;Brain Games  :  0.033844765342960284\n",
      "Education;Action & Adventure  :  0.033844765342960284\n",
      "Adventure;Action & Adventure  :  0.033844765342960284\n",
      "Video Players & Editors;Music & Video  :  0.02256317689530686\n",
      "Sports;Action & Adventure  :  0.02256317689530686\n",
      "Simulation;Pretend Play  :  0.02256317689530686\n",
      "Puzzle;Creativity  :  0.02256317689530686\n",
      "Music;Music & Video  :  0.02256317689530686\n",
      "Entertainment;Pretend Play  :  0.02256317689530686\n",
      "Casual;Education  :  0.02256317689530686\n",
      "Board;Action & Adventure  :  0.02256317689530686\n",
      "Video Players & Editors;Creativity  :  0.01128158844765343\n",
      "Trivia;Education  :  0.01128158844765343\n",
      "Travel & Local;Action & Adventure  :  0.01128158844765343\n",
      "Tools;Education  :  0.01128158844765343\n",
      "Strategy;Education  :  0.01128158844765343\n",
      "Strategy;Creativity  :  0.01128158844765343\n",
      "Strategy;Action & Adventure  :  0.01128158844765343\n",
      "Simulation;Education  :  0.01128158844765343\n",
      "Role Playing;Brain Games  :  0.01128158844765343\n",
      "Racing;Pretend Play  :  0.01128158844765343\n",
      "Puzzle;Education  :  0.01128158844765343\n",
      "Parenting;Brain Games  :  0.01128158844765343\n",
      "Music & Audio;Music & Video  :  0.01128158844765343\n",
      "Lifestyle;Pretend Play  :  0.01128158844765343\n",
      "Lifestyle;Education  :  0.01128158844765343\n",
      "Health & Fitness;Education  :  0.01128158844765343\n",
      "Health & Fitness;Action & Adventure  :  0.01128158844765343\n",
      "Entertainment;Education  :  0.01128158844765343\n",
      "Communication;Creativity  :  0.01128158844765343\n",
      "Comics;Creativity  :  0.01128158844765343\n",
      "Casual;Music & Video  :  0.01128158844765343\n",
      "Card;Action & Adventure  :  0.01128158844765343\n",
      "Books & Reference;Education  :  0.01128158844765343\n",
      "Art & Design;Pretend Play  :  0.01128158844765343\n",
      "Art & Design;Action & Adventure  :  0.01128158844765343\n",
      "Arcade;Pretend Play  :  0.01128158844765343\n",
      "Adventure;Education  :  0.01128158844765343\n"
     ]
    }
   ],
   "source": [
    "sort(android_final, 9)"
   ]
  },
  {
   "cell_type": "markdown",
   "metadata": {},
   "source": [
    "Unlike App Store which are dominated by Fun apps, The Google Play store has balanced landscape with both fun(entertainment, lifestyle) and apps designed for productivity purposes(tools, education) in the top.\n",
    "\n",
    "However, we also need to understand that on both Google Play and App Store markets, genres with most proportion may or may not have highest number of users(downloads) as well. The demand might not be same as supply.\n",
    "\n",
    "### App with most users\n",
    "\n",
    "Now lets figure out the genre of apps with most users.\n",
    "\n",
    "If you see the App Store data set there is no column that gives the information about the number of users/downloads. So what we will do instead is use column number 5, which is the total number of reviews which kind of gives us an idea about its popularity.\n"
   ]
  },
  {
   "cell_type": "code",
   "execution_count": 19,
   "metadata": {
    "collapsed": false
   },
   "outputs": [
    {
     "name": "stdout",
     "output_type": "stream",
     "text": [
      "Navigation  :  86090.33333333333\n",
      "Reference  :  74942.11111111111\n",
      "Social Networking  :  71548.34905660385\n",
      "Music  :  57326.5303030303\n",
      "Weather  :  52279.892857142855\n",
      "Book  :  39758.5\n",
      "Food & Drink  :  33333.92307692309\n",
      "Finance  :  31467.944444444445\n",
      "Photo & Video  :  28441.543749999993\n",
      "Travel  :  28243.8\n",
      "Shopping  :  26919.690476190477\n",
      "Health & Fitness  :  23298.015384615377\n",
      "Sports  :  23008.898550724636\n",
      "Games  :  22812.92467948712\n",
      "News  :  21248.023255813947\n",
      "Productivity  :  21028.410714285714\n",
      "Utilities  :  18684.456790123462\n",
      "Lifestyle  :  16485.764705882346\n",
      "Entertainment  :  14029.830708661419\n",
      "Business  :  7491.117647058824\n",
      "Education  :  7003.983050847459\n",
      "Catalogs  :  4004.0\n",
      "Medical  :  612.0\n"
     ]
    }
   ],
   "source": [
    "## Finding Apps of Genre with most users on App Store\n",
    "most_apps = {}\n",
    "temp_add = {}\n",
    "for each_app in ios_final:\n",
    "    rating_count = float(each_app[5])\n",
    "    genre = each_app[11]\n",
    "    if genre in most_apps:\n",
    "        most_apps[genre] *= temp_add[genre]\n",
    "        most_apps[genre] += rating_count\n",
    "        temp_add[genre] += 1\n",
    "        most_apps[genre] /= temp_add[genre]\n",
    "    \n",
    "    else:\n",
    "        most_apps[genre] = rating_count\n",
    "        temp_add[genre] = 1\n",
    "\n",
    "as_list = []\n",
    "for each in most_apps:\n",
    "    temp_list = [most_apps[each], each]\n",
    "    as_list.append(temp_list)\n",
    "    \n",
    "for each_app in sorted(as_list, reverse = True):\n",
    "    print(each_app[1], \" : \", each_app[0])\n",
    "    "
   ]
  },
  {
   "cell_type": "markdown",
   "metadata": {},
   "source": [
    "*Navigation* apps has the highest number of reviews on average. However after analysing further in detail, we could see that the average was due to *Waze* and *Google Maps* which has more than 95% of total reviews."
   ]
  },
  {
   "cell_type": "code",
   "execution_count": 20,
   "metadata": {
    "collapsed": false,
    "scrolled": true
   },
   "outputs": [
    {
     "name": "stdout",
     "output_type": "stream",
     "text": [
      "Waze - GPS Navigation, Maps & Real-time Traffic  : 345046\n",
      "\n",
      "\n",
      "Google Maps - Navigation & Transit  : 154911\n",
      "\n",
      "\n",
      "Geocaching®  : 12811\n",
      "\n",
      "\n",
      "CoPilot GPS – Car Navigation & Offline Maps  : 3582\n",
      "\n",
      "\n",
      "ImmobilienScout24: Real Estate Search in Germany  : 187\n",
      "\n",
      "\n",
      "Railway Route Search  : 5\n",
      "\n",
      "\n"
     ]
    }
   ],
   "source": [
    "for each in ios_final:\n",
    "    if each[11] == \"Navigation\":\n",
    "        print(each[1], \" :\", each[5])\n",
    "        print(\"\\n\")"
   ]
  },
  {
   "cell_type": "markdown",
   "metadata": {},
   "source": [
    "We notice the same trend in *Social Networking* and *Music* genre as well. Social Networking is dominated by Facebook and Pinterest and Music category is dominated by Pandora and Spotify. It is impossible for a freelancer to compete against these giants in this category and succeed, because all these are very successful products with millions of users in real time. Same thing goes for *Food* and *Finance* category which is dominated by giants in those field.\n",
    "\n",
    "Reference category has 74942 reviews on average. On looking further, Bible and Dictionary tops the list with most reviews."
   ]
  },
  {
   "cell_type": "code",
   "execution_count": 21,
   "metadata": {
    "collapsed": false
   },
   "outputs": [
    {
     "name": "stdout",
     "output_type": "stream",
     "text": [
      "Bible  : 985920\n",
      "\n",
      "\n",
      "Dictionary.com Dictionary & Thesaurus  : 200047\n",
      "\n",
      "\n",
      "Dictionary.com Dictionary & Thesaurus for iPad  : 54175\n",
      "\n",
      "\n",
      "Google Translate  : 26786\n",
      "\n",
      "\n",
      "Muslim Pro: Ramadan 2017 Prayer Times, Azan, Quran  : 18418\n",
      "\n",
      "\n",
      "New Furniture Mods - Pocket Wiki & Game Tools for Minecraft PC Edition  : 17588\n",
      "\n",
      "\n",
      "Merriam-Webster Dictionary  : 16849\n",
      "\n",
      "\n",
      "Night Sky  : 12122\n",
      "\n",
      "\n",
      "City Maps for Minecraft PE - The Best Maps for Minecraft Pocket Edition (MCPE)  : 8535\n",
      "\n",
      "\n",
      "LUCKY BLOCK MOD ™ for Minecraft PC Edition - The Best Pocket Wiki & Mods Installer Tools  : 4693\n",
      "\n",
      "\n",
      "GUNS MODS for Minecraft PC Edition - Mods Tools  : 1497\n",
      "\n",
      "\n",
      "Guides for Pokémon GO - Pokemon GO News and Cheats  : 826\n",
      "\n",
      "\n",
      "WWDC  : 762\n",
      "\n",
      "\n",
      "Horror Maps for Minecraft PE - Download The Scariest Maps for Minecraft Pocket Edition (MCPE) Free  : 718\n",
      "\n",
      "\n",
      "VPN Express  : 14\n",
      "\n",
      "\n",
      "Real Bike Traffic Rider Virtual Reality Glasses  : 8\n",
      "\n",
      "\n",
      "教えて!goo  : 0\n",
      "\n",
      "\n",
      "Jishokun-Japanese English Dictionary & Translator  : 0\n",
      "\n",
      "\n"
     ]
    }
   ],
   "source": [
    "for each in ios_final:\n",
    "    if each[11] == \"Reference\":\n",
    "        print(each[1], \" :\", each[5])\n",
    "        print(\"\\n\")"
   ]
  },
  {
   "cell_type": "markdown",
   "metadata": {},
   "source": [
    "This catgory seems interesting. What we can do is take one or more popular book and turn into an app. We can add many different features like quiz, quotes, links to any news aboust the book on the web. We also can include audio version of the book.\n",
    "\n",
    "Another interesting thing we can do is to have an in built Dictionary inside the app itself so the user dont have to exit the app to look for meaning.\n",
    "\n",
    "Now lets find in Goole Play the genre of apps with most users."
   ]
  },
  {
   "cell_type": "code",
   "execution_count": 22,
   "metadata": {
    "collapsed": false
   },
   "outputs": [
    {
     "name": "stdout",
     "output_type": "stream",
     "text": [
      "Communication  :  38456119.16724743\n",
      "Adventure;Action & Adventure  :  35333333.333333336\n",
      "Video Players & Editors  :  24947335.796178345\n",
      "Social  :  23253652.12711863\n",
      "Arcade  :  22888365.48780488\n",
      "Casual  :  19569221.602564108\n",
      "Puzzle;Action & Adventure  :  18366666.666666668\n",
      "Photography  :  17840110.40229885\n",
      "Educational;Action & Adventure  :  17016666.666666668\n",
      "Productivity  :  16787331.344927523\n",
      "Racing  :  15910645.681818193\n",
      "Travel & Local  :  14051476.145631064\n",
      "Casual;Action & Adventure  :  12916666.666666666\n",
      "Action  :  12603588.872727277\n",
      "Strategy  :  11199902.5308642\n",
      "Tools  :  10802461.246996008\n",
      "Tools;Education  :  10000000.0\n",
      "Role Playing;Brain Games  :  10000000.0\n",
      "Lifestyle;Pretend Play  :  10000000.0\n",
      "Casual;Music & Video  :  10000000.0\n",
      "Card;Action & Adventure  :  10000000.0\n",
      "Adventure;Education  :  10000000.0\n",
      "News & Magazines  :  9549178.467741935\n",
      "Music  :  9445583.333333334\n",
      "Educational;Pretend Play  :  9375000.0\n",
      "Puzzle;Brain Games  :  9280666.666666666\n",
      "Word  :  9094458.695652174\n",
      "Racing;Action & Adventure  :  8816666.666666666\n",
      "Books & Reference  :  8767811.894736838\n",
      "Puzzle  :  8302861.910000001\n",
      "Video Players & Editors;Music & Video  :  7500000.0\n",
      "Shopping  :  7036877.311557789\n",
      "Role Playing;Action & Adventure  :  7000000.0\n",
      "Casual;Pretend Play  :  6957142.857142857\n",
      "Entertainment;Music & Video  :  6413333.333333333\n",
      "Action;Action & Adventure  :  5888888.888888889\n",
      "Entertainment  :  5602792.775092941\n",
      "Education;Brain Games  :  5333333.333333333\n",
      "Casual;Creativity  :  5333333.333333333\n",
      "Role Playing;Pretend Play  :  5275000.0\n",
      "Personalization  :  5201482.612244898\n",
      "Weather  :  5074486.197183099\n",
      "Sports;Action & Adventure  :  5050000.0\n",
      "Music;Music & Video  :  5050000.0\n",
      "Video Players & Editors;Creativity  :  5000000.0\n",
      "Adventure  :  4922785.333333333\n",
      "Simulation;Action & Adventure  :  4857142.857142857\n",
      "Education;Education  :  4759517.0\n",
      "Board  :  4759209.117647059\n",
      "Sports  :  4596842.615635181\n",
      "Educational;Brain Games  :  4433333.333333333\n",
      "Health & Fitness  :  4188821.9853479844\n",
      "Maps & Navigation  :  4056941.7741935495\n",
      "Entertainment;Creativity  :  4000000.0\n",
      "Role Playing  :  3965645.421686747\n",
      "Card  :  3815462.5\n",
      "Trivia  :  3475712.7027027025\n",
      "Simulation  :  3475484.0883977907\n",
      "Casino  :  3427910.5263157897\n",
      "Entertainment;Brain Games  :  3314285.714285714\n",
      "Arcade;Action & Adventure  :  3190909.1818181816\n",
      "Entertainment;Pretend Play  :  3000000.0\n",
      "Board;Action & Adventure  :  3000000.0\n",
      "Education;Creativity  :  2875000.0\n",
      "Entertainment;Action & Adventure  :  2333333.3333333335\n",
      "Educational;Creativity  :  2333333.3333333335\n",
      "Art & Design  :  2122850.9433962265\n",
      "Education;Music & Video  :  2033333.3333333333\n",
      "Food & Drink  :  1924897.736363638\n",
      "Education;Pretend Play  :  1800000.0\n",
      "Educational;Education  :  1737143.142857143\n",
      "Business  :  1712290.1474201486\n",
      "Casual;Brain Games  :  1425916.6666666667\n",
      "Lifestyle  :  1412998.3449275375\n",
      "Finance  :  1387692.475609757\n",
      "House & Home  :  1331540.5616438356\n",
      "Parenting;Music & Video  :  1118333.3333333333\n",
      "Strategy;Creativity  :  1000000.0\n",
      "Strategy;Action & Adventure  :  1000000.0\n",
      "Racing;Pretend Play  :  1000000.0\n",
      "Parenting;Brain Games  :  1000000.0\n",
      "Health & Fitness;Action & Adventure  :  1000000.0\n",
      "Entertainment;Education  :  1000000.0\n",
      "Education;Action & Adventure  :  1000000.0\n",
      "Casual;Education  :  1000000.0\n",
      "Arcade;Pretend Play  :  1000000.0\n",
      "Dating  :  854028.8303030301\n",
      "Comics  :  831873.1481481482\n",
      "Puzzle;Creativity  :  750000.0\n",
      "Auto & Vehicles  :  647317.8170731709\n",
      "Libraries & Demo  :  638503.7349397589\n",
      "Education  :  550185.4430379759\n",
      "Simulation;Pretend Play  :  550000.0\n",
      "Beauty  :  513151.8867924528\n",
      "Strategy;Education  :  500000.0\n",
      "Music & Audio;Music & Video  :  500000.0\n",
      "Communication;Creativity  :  500000.0\n",
      "Art & Design;Pretend Play  :  500000.0\n",
      "Parenting  :  467977.5\n",
      "Parenting;Education  :  452857.14285714284\n",
      "Educational  :  411184.8484848485\n",
      "Board;Brain Games  :  407142.85714285716\n",
      "Art & Design;Creativity  :  285000.0\n",
      "Events  :  253542.22222222234\n",
      "Medical  :  120550.61980830679\n",
      "Travel & Local;Action & Adventure  :  100000.0\n",
      "Puzzle;Education  :  100000.0\n",
      "Lifestyle;Education  :  100000.0\n",
      "Health & Fitness;Education  :  100000.0\n",
      "Art & Design;Action & Adventure  :  100000.0\n",
      "Comics;Creativity  :  50000.0\n",
      "Books & Reference;Education  :  1000.0\n",
      "Simulation;Education  :  500.0\n",
      "Trivia;Education  :  100.0\n"
     ]
    }
   ],
   "source": [
    "## Finding Apps of Genre with most users on Google Play\n",
    "most_apps = {}\n",
    "temp_add = {}\n",
    "for each_app in android_final:\n",
    "    rating_count = each_app[5]\n",
    "    rating_count = rating_count.replace(\"+\", \"\")\n",
    "    rating_count = rating_count.replace(\",\", \"\")\n",
    "    rating_count = float(rating_count)\n",
    "    genre = each_app[9]\n",
    "    if genre in most_apps:\n",
    "        most_apps[genre] *= temp_add[genre]\n",
    "        most_apps[genre] += rating_count\n",
    "        temp_add[genre] += 1\n",
    "        most_apps[genre] /= temp_add[genre]\n",
    "    \n",
    "    else:\n",
    "        most_apps[genre] = rating_count\n",
    "        temp_add[genre] = 1\n",
    "\n",
    "as_list = []\n",
    "for each in most_apps:\n",
    "    temp_list = [most_apps[each], each]\n",
    "    as_list.append(temp_list)\n",
    "    \n",
    "for each_app in sorted(as_list, reverse = True):\n",
    "    print(each_app[1], \" : \", each_app[0])"
   ]
  },
  {
   "cell_type": "markdown",
   "metadata": {},
   "source": [
    "*Communication* tops the list with average install of 38 million. However same like App Store market, most number of installs belong to  *WhatsAPP*, *Skype*, *Messenger* and few more apps which have more than 1 billion installs."
   ]
  },
  {
   "cell_type": "code",
   "execution_count": 23,
   "metadata": {
    "collapsed": false
   },
   "outputs": [
    {
     "name": "stdout",
     "output_type": "stream",
     "text": [
      "WhatsApp Messenger  :  1,000,000,000+\n",
      "Google Duo - High Quality Video Calls  :  500,000,000+\n",
      "Messenger – Text and Video Chat for Free  :  1,000,000,000+\n",
      "imo free video calls and chat  :  500,000,000+\n",
      "Skype - free IM & video calls  :  1,000,000,000+\n",
      "LINE: Free Calls & Messages  :  500,000,000+\n",
      "Google Chrome: Fast & Secure  :  1,000,000,000+\n",
      "UC Browser - Fast Download Private & Secure  :  500,000,000+\n",
      "Gmail  :  1,000,000,000+\n",
      "Hangouts  :  1,000,000,000+\n",
      "Viber Messenger  :  500,000,000+\n"
     ]
    }
   ],
   "source": [
    "for each in android_final:\n",
    "    if each[9] == \"Communication\":\n",
    "        rating = each[5]\n",
    "        rating = rating.replace(\"+\", \"\")\n",
    "        rating = rating.replace(\",\",\"\")\n",
    "        rating = float(rating)\n",
    "        if rating > 100000000:\n",
    "            print(each[0], \" : \", each[5])"
   ]
  },
  {
   "cell_type": "markdown",
   "metadata": {},
   "source": [
    "So *Communication* Apps seems to be more popular than they really are. If you exclude the Communications apps with more than 10 million installs, the average installs reduce to 0.7 million."
   ]
  },
  {
   "cell_type": "code",
   "execution_count": 24,
   "metadata": {
    "collapsed": false
   },
   "outputs": [
    {
     "name": "stdout",
     "output_type": "stream",
     "text": [
      "Average installs of communication apps ater excluding apps greater than 10 million installs:  747172.3857142857\n"
     ]
    }
   ],
   "source": [
    "#average rating by excluding > 10 million apps\n",
    "ratings = []\n",
    "for each in android_final:\n",
    "    if each[9] == \"Communication\":\n",
    "        rating = each[5]\n",
    "        rating = rating.replace(\"+\", \"\")\n",
    "        rating = rating.replace(\",\",\"\")\n",
    "        rating = float(rating)\n",
    "        if rating < 10000000:\n",
    "            ratings.append(rating)\n",
    "\n",
    "print(\"Average installs of communication apps ater excluding apps greater than 10 million installs: \",sum(ratings) / len(ratings))"
   ]
  },
  {
   "cell_type": "markdown",
   "metadata": {},
   "source": [
    "The Genre after *Communication* is *Adventure;Action & Adventure* which only have 3 apps which dont give much information for our analysis and hence we skip that."
   ]
  },
  {
   "cell_type": "code",
   "execution_count": 25,
   "metadata": {
    "collapsed": false,
    "scrolled": true
   },
   "outputs": [
    {
     "name": "stdout",
     "output_type": "stream",
     "text": [
      "Leo and Tig  :  1,000,000+\n",
      "Transformers Rescue Bots: Hero Adventures  :  5,000,000+\n",
      "ROBLOX  :  100,000,000+\n"
     ]
    }
   ],
   "source": [
    "for each in android_final:\n",
    "    if each[9] == \"Adventure;Action & Adventure\":\n",
    "        print(each[0], \" : \", each[5])"
   ]
  },
  {
   "cell_type": "markdown",
   "metadata": {},
   "source": [
    "The other top Genres in the list, also follows similar pattern like Communications apps where only the few giants in the field have almost all the installs. For example *Youtube*  and *Google Play* have more than *1 billion* in the *Video Players & Editors Genre*."
   ]
  },
  {
   "cell_type": "code",
   "execution_count": 26,
   "metadata": {
    "collapsed": false
   },
   "outputs": [
    {
     "name": "stdout",
     "output_type": "stream",
     "text": [
      "YouTube  :  1,000,000,000+\n",
      "Google Play Movies & TV  :  1,000,000,000+\n",
      "MX Player  :  500,000,000+\n"
     ]
    }
   ],
   "source": [
    "ratings = []\n",
    "for each in android_final:\n",
    "    if each[9] == \"Video Players & Editors\":\n",
    "        rating = each[5]\n",
    "        rating = rating.replace(\"+\", \"\")\n",
    "        rating = rating.replace(\",\",\"\")\n",
    "        rating = float(rating)\n",
    "        if rating > 100000000:\n",
    "            print(each[0], \" : \", each[5])"
   ]
  },
  {
   "cell_type": "markdown",
   "metadata": {},
   "source": [
    "*Books & Reference* genre have nearly 9 million installs. We would like to explore this in detail as we found this genre has some potential in App Store, and hence would like to see how it fairs in the Google Play market.`\n"
   ]
  },
  {
   "cell_type": "code",
   "execution_count": 27,
   "metadata": {
    "collapsed": false
   },
   "outputs": [
    {
     "name": "stdout",
     "output_type": "stream",
     "text": [
      "E-Book Read - Read Book for free  :  50,000+\n",
      "Download free book with green book  :  100,000+\n",
      "Wikipedia  :  10,000,000+\n",
      "Cool Reader  :  10,000,000+\n",
      "Free Panda Radio Music  :  100,000+\n",
      "Book store  :  1,000,000+\n",
      "FBReader: Favorite Book Reader  :  10,000,000+\n",
      "English Grammar Complete Handbook  :  500,000+\n",
      "Free Books - Spirit Fanfiction and Stories  :  1,000,000+\n",
      "Google Play Books  :  1,000,000,000+\n",
      "AlReader -any text book reader  :  5,000,000+\n",
      "Offline English Dictionary  :  100,000+\n",
      "Offline: English to Tagalog Dictionary  :  500,000+\n",
      "FamilySearch Tree  :  1,000,000+\n",
      "Cloud of Books  :  1,000,000+\n",
      "Recipes of Prophetic Medicine for free  :  500,000+\n",
      "ReadEra – free ebook reader  :  1,000,000+\n",
      "Anonymous caller detection  :  10,000+\n",
      "Ebook Reader  :  5,000,000+\n",
      "Litnet - E-books  :  100,000+\n",
      "Read books online  :  5,000,000+\n",
      "English to Urdu Dictionary  :  500,000+\n",
      "eBoox: book reader fb2 epub zip  :  1,000,000+\n",
      "English Persian Dictionary  :  500,000+\n",
      "Flybook  :  500,000+\n",
      "All Maths Formulas  :  1,000,000+\n",
      "Ancestry  :  5,000,000+\n",
      "HTC Help  :  10,000,000+\n",
      "English translation from Bengali  :  100,000+\n",
      "Pdf Book Download - Read Pdf Book  :  100,000+\n",
      "Free Book Reader  :  100,000+\n",
      "eBoox new: Reader for fb2 epub zip books  :  50,000+\n",
      "Only 30 days in English, the guideline is guaranteed  :  500,000+\n",
      "Moon+ Reader  :  10,000,000+\n",
      "SH-02J Owner's Manual (Android 8.0)  :  50,000+\n",
      "English-Myanmar Dictionary  :  1,000,000+\n",
      "Golden Dictionary (EN-AR)  :  1,000,000+\n",
      "All Language Translator Free  :  1,000,000+\n",
      "Azpen eReader  :  500,000+\n",
      "URBANO V 02 instruction manual  :  100,000+\n",
      "Bible  :  100,000,000+\n",
      "C Programs and Reference  :  50,000+\n",
      "C Offline Tutorial  :  1,000+\n",
      "C Programs Handbook  :  50,000+\n",
      "Amazon Kindle  :  100,000,000+\n",
      "Aab e Hayat Full Novel  :  100,000+\n",
      "Aldiko Book Reader  :  10,000,000+\n",
      "Google I/O 2018  :  500,000+\n",
      "R Language Reference Guide  :  10,000+\n",
      "Learn R Programming Full  :  5,000+\n",
      "R Programing Offline Tutorial  :  1,000+\n",
      "Guide for R Programming  :  5+\n",
      "Learn R Programming  :  10+\n",
      "R Quick Reference Big Data  :  1,000+\n",
      "V Made  :  100,000+\n",
      "Wattpad 📖 Free Books  :  100,000,000+\n",
      "Dictionary - WordWeb  :  5,000,000+\n",
      "Guide (for X-MEN)  :  100,000+\n",
      "AC Air condition Troubleshoot,Repair,Maintenance  :  5,000+\n",
      "AE Bulletins  :  1,000+\n",
      "Ae Allah na Dai (Rasa)  :  10,000+\n",
      "50000 Free eBooks & Free AudioBooks  :  5,000,000+\n",
      "Ag PhD Field Guide  :  10,000+\n",
      "Ag PhD Deficiencies  :  10,000+\n",
      "Ag PhD Planting Population Calculator  :  1,000+\n",
      "Ag PhD Soybean Diseases  :  1,000+\n",
      "Fertilizer Removal By Crop  :  50,000+\n",
      "A-J Media Vault  :  50+\n",
      "Al-Quran (Free)  :  10,000,000+\n",
      "Al Quran (Tafsir & by Word)  :  500,000+\n",
      "Al Quran Indonesia  :  10,000,000+\n",
      "Al'Quran Bahasa Indonesia  :  10,000,000+\n",
      "Al Quran Al karim  :  1,000,000+\n",
      "Al-Muhaffiz  :  50,000+\n",
      "Al Quran : EAlim - Translations & MP3 Offline  :  5,000,000+\n",
      "Al-Quran 30 Juz free copies  :  500,000+\n",
      "Koran Read &MP3 30 Juz Offline  :  1,000,000+\n",
      "Hafizi Quran 15 lines per page  :  1,000,000+\n",
      "Quran for Android  :  10,000,000+\n",
      "Surah Al-Waqiah  :  100,000+\n",
      "Hisnul Al Muslim - Hisn Invocations & Adhkaar  :  100,000+\n",
      "Satellite AR  :  1,000,000+\n",
      "Audiobooks from Audible  :  100,000,000+\n",
      "Kinot & Eichah for Tisha B'Av  :  10,000+\n",
      "AW Tozer Devotionals - Daily  :  5,000+\n",
      "Tozer Devotional -Series 1  :  1,000+\n",
      "The Pursuit of God  :  1,000+\n",
      "AY Sing  :  5,000+\n",
      "Ay Hasnain k Nana Milad Naat  :  10,000+\n",
      "Ay Mohabbat Teri Khatir Novel  :  10,000+\n",
      "Arizona Statutes, ARS (AZ Law)  :  1,000+\n",
      "Oxford A-Z of English Usage  :  1,000,000+\n",
      "BD Fishpedia  :  1,000+\n",
      "BD All Sim Offer  :  10,000+\n",
      "Youboox - Livres, BD et magazines  :  500,000+\n",
      "B&H Kids AR  :  10,000+\n",
      "B y H Niños ES  :  5,000+\n",
      "Dictionary.com: Find Definitions for English Words  :  10,000,000+\n",
      "English Dictionary - Offline  :  10,000,000+\n",
      "Bible KJV  :  5,000,000+\n",
      "Borneo Bible, BM Bible  :  10,000+\n",
      "MOD Black for BM  :  100+\n",
      "BM Box  :  1,000+\n",
      "Anime Mod for BM  :  100+\n",
      "NOOK: Read eBooks & Magazines  :  10,000,000+\n",
      "NOOK Audiobooks  :  500,000+\n",
      "NOOK App for NOOK Devices  :  500,000+\n",
      "Browsery by Barnes & Noble  :  5,000+\n",
      "bp e-store  :  1,000+\n",
      "Brilliant Quotes: Life, Love, Family & Motivation  :  1,000,000+\n",
      "BR Ambedkar Biography & Quotes  :  10,000+\n",
      "BU Alsace  :  100+\n",
      "Catholic La Bu Zo Kam  :  500+\n",
      "Khrifa Hla Bu (Solfa)  :  10+\n",
      "Kristian Hla Bu  :  10,000+\n",
      "SA HLA BU  :  1,000+\n",
      "Learn SAP BW  :  500+\n",
      "Learn SAP BW on HANA  :  500+\n",
      "CA Laws 2018 (California Laws and Codes)  :  5,000+\n",
      "Bootable Methods(USB-CD-DVD)  :  10,000+\n",
      "cloudLibrary  :  100,000+\n",
      "SDA Collegiate Quarterly  :  500+\n",
      "Sabbath School  :  100,000+\n",
      "Cypress College Library  :  100+\n",
      "Stats Royale for Clash Royale  :  1,000,000+\n",
      "GATE 21 years CS Papers(2011-2018 Solved)  :  50+\n",
      "Learn CT Scan Of Head  :  5,000+\n",
      "Easy Cv maker 2018  :  10,000+\n",
      "How to Write CV  :  100,000+\n",
      "CW Nuclear  :  1,000+\n",
      "CY Spray nozzle  :  10+\n",
      "BibleRead En Cy Zh Yue  :  5+\n",
      "CZ-Help  :  5+\n",
      "Modlitební knížka CZ  :  500+\n",
      "Guide for DB Xenoverse  :  10,000+\n",
      "Guide for DB Xenoverse 2  :  10,000+\n",
      "Guide for IMS DB  :  10+\n",
      "DC HSEMA  :  5,000+\n",
      "DC Public Library  :  1,000+\n",
      "Painting Lulu DC Super Friends  :  1,000+\n",
      "Dictionary  :  10,000,000+\n",
      "Fix Error Google Playstore  :  1,000+\n",
      "D. H. Lawrence Poems FREE  :  1,000+\n",
      "Bilingual Dictionary Audio App  :  5,000+\n",
      "DM Screen  :  10,000+\n",
      "wikiHow: how to do anything  :  1,000,000+\n",
      "Dr. Doug's Tips  :  1,000+\n",
      "Bible du Semeur-BDS (French)  :  50,000+\n",
      "La citadelle du musulman  :  50,000+\n",
      "DV 2019 Entry Guide  :  10,000+\n",
      "DV 2019 - EDV Photo & Form  :  50,000+\n",
      "DV 2018 Winners Guide  :  1,000+\n",
      "EB Annual Meetings  :  1,000+\n",
      "EC - AP & Telangana  :  5,000+\n",
      "TN Patta Citta & EC  :  10,000+\n",
      "AP Stamps and Registration  :  10,000+\n",
      "CompactiMa EC pH Calibration  :  100+\n",
      "EGW Writings 2  :  100,000+\n",
      "EGW Writings  :  1,000,000+\n",
      "Bible with EGW Comments  :  100,000+\n",
      "My Little Pony AR Guide  :  1,000,000+\n",
      "SDA Sabbath School Quarterly  :  500,000+\n",
      "Duaa Ek Ibaadat  :  5,000+\n",
      "Spanish English Translator  :  10,000,000+\n",
      "Dictionary - Merriam-Webster  :  10,000,000+\n",
      "JW Library  :  10,000,000+\n",
      "Oxford Dictionary of English : Free  :  10,000,000+\n",
      "English Hindi Dictionary  :  10,000,000+\n",
      "English to Hindi Dictionary  :  5,000,000+\n",
      "EP Research Service  :  1,000+\n",
      "Hymnes et Louanges  :  100,000+\n",
      "EU Charter  :  1,000+\n",
      "EU Data Protection  :  1,000+\n",
      "EU IP Codes  :  100+\n",
      "EW PDF  :  5+\n",
      "BakaReader EX  :  100,000+\n",
      "EZ Quran  :  50,000+\n",
      "FA Part 1 & 2 Past Papers Solved Free – Offline  :  5,000+\n",
      "La Fe de Jesus  :  1,000+\n",
      "La Fe de Jesús  :  500+\n",
      "Le Fe de Jesus  :  500+\n",
      "Florida - Pocket Brainbook  :  1,000+\n",
      "Florida Statutes (FL Code)  :  1,000+\n",
      "English To Shona Dictionary  :  10,000+\n",
      "Greek Bible FP (Audio)  :  1,000+\n",
      "Golden Dictionary (FR-AR)  :  500,000+\n",
      "Fanfic-FR  :  5,000+\n",
      "Bulgarian French Dictionary Fr  :  10,000+\n",
      "Chemin (fr)  :  1,000+\n",
      "The SCP Foundation DB fr nn5n  :  1,000+\n"
     ]
    }
   ],
   "source": [
    "for each in android_final:\n",
    "    if each[9] == \"Books & Reference\":\n",
    "        print(each[0], \" : \", each[5])"
   ]
  },
  {
   "cell_type": "markdown",
   "metadata": {},
   "source": [
    "Books & Reference section seems to have varierty of apps like Ebook, Dictionary, programming language etc.\n",
    "\n",
    "We also see successful apps built around Bible and Quran which suggests that taking a recent popular book and turning into an app will be profitable.\n",
    "\n",
    "Instead of having a raw version of the book, we should add different features to make it more interesting. For example: quizzes, quote of the day, news and interviews regarding the book, audio version and an inbuild dictionary to name a few.\n",
    "\n",
    "## Conclusion\n",
    "\n",
    "In this project, we analysed data about Google Play and App Store inorder to recommend the genre of apps which will be successful on both markets.\n",
    "\n",
    "Baes on our analysis we recommend taking a recent popular book and turning into an app will be profitable. Inorder to make the app more appealing to users, we should add different features like audio version of the book, daily quizzes from the book, link to news item or interviews about the book, in-built dictionary and a forum inorder to encourage discussion about the book."
   ]
  }
 ],
 "metadata": {
  "kernelspec": {
   "display_name": "Python 3",
   "language": "python",
   "name": "python3"
  },
  "language_info": {
   "codemirror_mode": {
    "name": "ipython",
    "version": 3
   },
   "file_extension": ".py",
   "mimetype": "text/x-python",
   "name": "python",
   "nbconvert_exporter": "python",
   "pygments_lexer": "ipython3",
   "version": "3.4.3"
  }
 },
 "nbformat": 4,
 "nbformat_minor": 2
}
