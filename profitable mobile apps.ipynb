{
 "cells": [
  {
   "cell_type": "markdown",
   "metadata": {},
   "source": [
    "# Finding Profitable App Genre - Google Play & App Store Market\n",
    "\n",
    "My goal in this project is to find the genre(ex: Games, Books, News etc) of app's that will be profitable on both Google Play and the iOS App Store markets.This will help freelance app developers to make better data driven decision on the kind of apps they would like to develop to be profitable.\n",
    "\n",
    "We will analyse data about Google Play and App Store apps and try to find:\n",
    "\n",
    "* Most common apps by genre on both the markets\n",
    "* Most popular apps by genre on both the markets\n",
    "\n",
    "### Summary of Results\n",
    "\n",
    "After analyzing the data, we found that taking a recent popular book and turning it into an app will be profitable on both the markets. We also recommend adding several features to the app. For more details, please refer to the full analysis below.\n",
    "\n",
    "\n",
    "## Data Set\n",
    "\n",
    "Both Google Play and App Store have more than 2 million apps each. Gathering data for these 4+ million apps will be resource intense and hence we decided to analyse sample of data that we located on Kaggle.\n",
    "\n",
    "* This [data set](https://www.kaggle.com/lava18/google-play-store-apps) contains data about 10,000+ Android apps on the Google Play.\n",
    "\n",
    "* This [data set](https://www.kaggle.com/ramamet4/app-store-apple-data-set-10k-apps) contains data about 7,000+ iOS apps on the App Store.\n",
    "\n",
    "## Exploring the Data set\n",
    "\n",
    "We will start by opening the two data set files that we are going to analyse."
   ]
  },
  {
   "cell_type": "code",
   "execution_count": 1,
   "metadata": {
    "collapsed": true
   },
   "outputs": [],
   "source": [
    "#Opening the Google Play data set\n",
    "open_android = open(\"googleplaystore.csv\")\n",
    "from csv import reader\n",
    "android_reader = reader(open_android)\n",
    "android = list(android_reader)  \n",
    "\n",
    "#Opening the iOS App Store data set\n",
    "open_ios = open(\"AppleStore.csv\")\n",
    "ios_reader = reader(open_ios)\n",
    "ios = list(ios_reader)\n",
    "\n"
   ]
  },
  {
   "cell_type": "markdown",
   "metadata": {},
   "source": [
    " To make our analysis easier, let's write a small function named app_info that will return the app information we want for any data set. Apart from it, this function will also return the total number of app's in that particular data set if needed. "
   ]
  },
  {
   "cell_type": "code",
   "execution_count": 2,
   "metadata": {
    "collapsed": false
   },
   "outputs": [],
   "source": [
    "#Function to return app information\n",
    "def app_info(dataset, start, finish, length= False):\n",
    "    for each_app in dataset[start:finish+1]:\n",
    "        print(each_app)\n",
    "        print(\"\\n\")\n",
    "        \n",
    "    if length == True:\n",
    "        print(\"Total number of apps: \", len(dataset[1:]))\n",
    "        "
   ]
  },
  {
   "cell_type": "markdown",
   "metadata": {},
   "source": [
    "We will use the above function to print few apps from both the data set to see how the information looks like."
   ]
  },
  {
   "cell_type": "code",
   "execution_count": 3,
   "metadata": {
    "collapsed": false
   },
   "outputs": [
    {
     "name": "stdout",
     "output_type": "stream",
     "text": [
      "['App', 'Category', 'Rating', 'Reviews', 'Size', 'Installs', 'Type', 'Price', 'Content Rating', 'Genres', 'Last Updated', 'Current Ver', 'Android Ver']\n",
      "\n",
      "\n",
      "['Photo Editor & Candy Camera & Grid & ScrapBook', 'ART_AND_DESIGN', '4.1', '159', '19M', '10,000+', 'Free', '0', 'Everyone', 'Art & Design', 'January 7, 2018', '1.0.0', '4.0.3 and up']\n",
      "\n",
      "\n",
      "['Coloring book moana', 'ART_AND_DESIGN', '3.9', '967', '14M', '500,000+', 'Free', '0', 'Everyone', 'Art & Design;Pretend Play', 'January 15, 2018', '2.0.0', '4.0.3 and up']\n",
      "\n",
      "\n",
      "['U Launcher Lite – FREE Live Cool Themes, Hide Apps', 'ART_AND_DESIGN', '4.7', '87510', '8.7M', '5,000,000+', 'Free', '0', 'Everyone', 'Art & Design', 'August 1, 2018', '1.2.4', '4.0.3 and up']\n",
      "\n",
      "\n",
      "Total number of apps:  10841\n"
     ]
    }
   ],
   "source": [
    "##Using app_info function to print Android apps\n",
    "app_info(android, 0, 3, True)\n"
   ]
  },
  {
   "cell_type": "markdown",
   "metadata": {},
   "source": [
    "As we above, there are total of 10,841 Android apps. The app contains information like name, size, number of reviews, installs, average rating to name a few.\n",
    "\n",
    "Now lets see how may iOS apps we have for analysis and see how it looks like."
   ]
  },
  {
   "cell_type": "code",
   "execution_count": null,
   "metadata": {
    "collapsed": false
   },
   "outputs": [
    {
     "name": "stdout",
     "output_type": "stream",
     "text": [
      "['id', 'track_name', 'size_bytes', 'currency', 'price', 'rating_count_tot', 'rating_count_ver', 'user_rating', 'user_rating_ver', 'ver', 'cont_rating', 'prime_genre', 'sup_devices.num', 'ipadSc_urls.num', 'lang.num', 'vpp_lic']\n",
      "\n",
      "\n",
      "['284882215', 'Facebook', '389879808', 'USD', '0.0', '2974676', '212', '3.5', '3.5', '95.0', '4+', 'Social Networking', '37', '1', '29', '1']\n",
      "\n",
      "\n",
      "['389801252', 'Instagram', '113954816', 'USD', '0.0', '2161558', '1289', '4.5', '4.0', '10.23', '12+', 'Photo & Video', '37', '0', '29', '1']\n",
      "\n",
      "\n",
      "['529479190', 'Clash of Clans', '116476928', 'USD', '0.0', '2130805', '579', '4.5', '4.5', '9.24.12', '9+', 'Games', '38', '5', '18', '1']\n",
      "\n",
      "\n",
      "Total number of apps:  7197\n"
     ]
    }
   ],
   "source": [
    "#Using app_info function to print iOS apps\n",
    "app_info(ios, 0, 3, True)"
   ]
  },
  {
   "cell_type": "markdown",
   "metadata": {},
   "source": [
    "We have 7197 iOS apps in our App Store data set and it contains information's like name, size, price, total number of ratings, average rating, genre etc.\n",
    "\n",
    "One thing to note in App Store data set is that, it does not contain number of install information like we had for Google Play data set. "
   ]
  },
  {
   "cell_type": "markdown",
   "metadata": {},
   "source": [
    "## Data Cleaning\n",
    "\n",
    " The most underrated process in a data analysis task is cleaning of data. Before we start analyzing our data, we need to be sure that the data is free of errors, misinformation's and duplicates. Else our analysis would be inaccurate and can lead to false conclusions. So it is very important that we take time to clean and make our data set ready for further analysis. \n",
    "\n",
    "### Remove Inaccurate Data\n",
    "\n",
    "First step in the data cleaning process is to find out if there are app's in the data set that has any missing information."
   ]
  },
  {
   "cell_type": "code",
   "execution_count": null,
   "metadata": {
    "collapsed": false
   },
   "outputs": [
    {
     "name": "stdout",
     "output_type": "stream",
     "text": [
      "['Life Made WI-Fi Touchscreen Photo Frame', '1.9', '19', '3.0M', '1,000+', 'Free', '0', 'Everyone', '', 'February 11, 2018', '1.0.19', '4.0 and up']\n",
      "length of this row:  12\n",
      "Index of inaccurate app is:  10473\n",
      "\n",
      "\n",
      "['App', 'Category', 'Rating', 'Reviews', 'Size', 'Installs', 'Type', 'Price', 'Content Rating', 'Genres', 'Last Updated', 'Current Ver', 'Android Ver']\n",
      "length of the header:  13\n"
     ]
    }
   ],
   "source": [
    "##Find inaccurate app in Google Play\n",
    "for each in android[1:]:\n",
    "    if len(each) != len(android[0]):\n",
    "        print(each)\n",
    "        print(\"length of this row: \", len(each))\n",
    "        print(\"Index of inaccurate app is: \", android.index(each))\n",
    "        print(\"\\n\")\n",
    "        print(android[0])\n",
    "        print(\"length of the header: \", len(android[0]))"
   ]
  },
  {
   "cell_type": "markdown",
   "metadata": {},
   "source": [
    "As we see, information of the app named \"Life Made WI-Fi Touchscreen Photo Frame\" on the Google Play data set is inaccurate as it is missing one of the information. The app has only 12 columns against the 13 we have for the header of Google Play data set. So we better of remove this app as we dont know which information is missing."
   ]
  },
  {
   "cell_type": "code",
   "execution_count": null,
   "metadata": {
    "collapsed": false
   },
   "outputs": [
    {
     "name": "stdout",
     "output_type": "stream",
     "text": [
      "Number of apps before deleting:  10841\n",
      "Number of apps after deleting:  10840\n"
     ]
    }
   ],
   "source": [
    "## Removing \"Life Made WI-Fi Touchscreen Photo Frame\" app\n",
    "print(\"Number of apps before deleting: \", len(android[1:]))\n",
    "del android[10473] \n",
    "print(\"Number of apps after deleting: \",len(android[1:]))"
   ]
  },
  {
   "cell_type": "code",
   "execution_count": null,
   "metadata": {
    "collapsed": false
   },
   "outputs": [],
   "source": [
    "##Find inaccurate app information in App Store\n",
    "for each in ios[1:]:\n",
    "    if len(each) != len(ios[0]):\n",
    "        print(each)\n",
    "        print(\"length of this row: \", len(each))\n",
    "        print(\"Index of inaccurate app is: \", ios.index(each))\n",
    "        print(\"\\n\")\n",
    "        print(ios[0])\n",
    "        print(\"length of the header: \", len(ios[0]))"
   ]
  },
  {
   "cell_type": "markdown",
   "metadata": {},
   "source": [
    "There is no app(s) on the App Store that is missing information.\n",
    "\n",
    "### Deleting Duplicate App(s)\n",
    "\n",
    "Next step in data cleaning is to locate apps that occur more than ones and find a way to remove those duplicates. For example the app \"Google Ads\" occur thrice in Google Play data set as we see below."
   ]
  },
  {
   "cell_type": "code",
   "execution_count": null,
   "metadata": {
    "collapsed": false
   },
   "outputs": [
    {
     "name": "stdout",
     "output_type": "stream",
     "text": [
      "['Google Ads', 'BUSINESS', '4.3', '29313', '20M', '5,000,000+', 'Free', '0', 'Everyone', 'Business', 'July 30, 2018', '1.12.0', '4.0.3 and up']\n",
      "['Google Ads', 'BUSINESS', '4.3', '29313', '20M', '5,000,000+', 'Free', '0', 'Everyone', 'Business', 'July 30, 2018', '1.12.0', '4.0.3 and up']\n",
      "['Google Ads', 'BUSINESS', '4.3', '29331', '20M', '5,000,000+', 'Free', '0', 'Everyone', 'Business', 'July 30, 2018', '1.12.0', '4.0.3 and up']\n"
     ]
    }
   ],
   "source": [
    "for each_app in android[1:]:\n",
    "    name = each_app[0]\n",
    "    if name == \"Google Ads\":\n",
    "        print(each_app)"
   ]
  },
  {
   "cell_type": "markdown",
   "metadata": {},
   "source": [
    "Now lets find how many duplicate entries are there in each of the data sets."
   ]
  },
  {
   "cell_type": "code",
   "execution_count": null,
   "metadata": {
    "collapsed": false,
    "scrolled": true
   },
   "outputs": [],
   "source": [
    "## Finding number of duplicate apps in the Google Play\n",
    "duplicate_app_google = []\n",
    "unique_app_google = []\n",
    "for each_row in android[1:]:\n",
    "    name = each_row[0]\n",
    "    if name in unique_app_google:\n",
    "        duplicate_app_google.append(name)\n",
    "    else:\n",
    "        unique_app_google.append(name)\n",
    "        \n",
    "print(\"Number of duplicate apps in Google Play: \", len(duplicate_app_google))\n",
    "print(\"\\n\")\n",
    "print(\"Number of unique apps in Google Play: \", len(unique_app_google))\n",
    "\n",
    "## Finding number of duplicate apps in the App Store\n",
    "duplicate_app_apple = []\n",
    "unique_app_apple = []\n",
    "for each_row in ios[1:]:\n",
    "    name = each_row[1]\n",
    "    if name in unique_app_apple:\n",
    "        duplicate_app_apple.append(name)\n",
    "    else:\n",
    "        unique_app_apple.append(name)\n",
    "\n",
    "print(\"\\n\")        \n",
    "print(\"Number of duplicate apps in App Store: \", len(duplicate_app_apple))\n",
    "print(\"\\n\")\n",
    "print(\"Number of unique apps in App Store: \", len(unique_app_apple))\n",
    "\n",
    "\n",
    "        "
   ]
  },
  {
   "cell_type": "markdown",
   "metadata": {},
   "source": [
    "We can see that there are 1181 duplicate apps in the Google Play data set. App Store is much better and contains only 2 duplicate entries.\n",
    "\n",
    "We need to keep only 1 entry per app and delete all the duplicate ones. If you see the \"Google Ads\" we printed above, there are 2 duplicates and the difference between the apps happen at 4th column which is the total number of reviews. So we can keep the app that has the highest number of reviews and delete the remaining ones. Higher the number of reviews the latest the information of the app should be.\n",
    "\n",
    "We will also follow the same procedure for App Store data set to keep the unique apps.\n",
    "\n",
    "Lets start by creating a dictionary where keys will be the unique app name and the values will be the highest review count for that app."
   ]
  },
  {
   "cell_type": "code",
   "execution_count": null,
   "metadata": {
    "collapsed": false
   },
   "outputs": [],
   "source": [
    "#Finding number of unique apps in Google Play\n",
    "google_unique_app = {}\n",
    "for each_row in android[1:]:\n",
    "    name = each_row[0]\n",
    "    reviews = float(each_row[3])\n",
    "    if name in google_unique_app and reviews > google_unique_app[name]:\n",
    "        google_unique_app[name] = reviews\n",
    "    elif name not in google_unique_app:\n",
    "        google_unique_app[name] = reviews\n",
    "        \n",
    "print(\"Number of unique Google apps extracted: \", len(google_unique_app))"
   ]
  },
  {
   "cell_type": "markdown",
   "metadata": {},
   "source": [
    "As we can see, the number of unique apps in the dictionary is 9659 which is same as what we found in the previous code cell.\n",
    "\n",
    "Now let us use this dictionary to create a list, with all the rows of the unique apps having the highest number of reviews."
   ]
  },
  {
   "cell_type": "code",
   "execution_count": null,
   "metadata": {
    "collapsed": false
   },
   "outputs": [],
   "source": [
    "unique_google = []\n",
    "already_added = []\n",
    "for each_row in android[1:]:\n",
    "    name = each_row[0]\n",
    "    review = float(each_row[3])\n",
    "    if google_unique_app[name] == review and name not in already_added:\n",
    "        unique_google.append(each_row)\n",
    "        already_added.append(name)\n",
    "\n",
    "print(\"Number of Google Play apps :\", len(unique_google))\n",
    "        "
   ]
  },
  {
   "cell_type": "markdown",
   "metadata": {},
   "source": [
    "Now lets do the same code for App Store data set and extract the unique app having the highest review. The number of reviews is found at column 6 in the App Store data set and hence we will modify our code accordingly."
   ]
  },
  {
   "cell_type": "code",
   "execution_count": null,
   "metadata": {
    "collapsed": false
   },
   "outputs": [],
   "source": [
    "apple_unique_app = {}\n",
    "for each_row in ios[1:]:\n",
    "    name = each_row[1]\n",
    "    reviews = float(each_row[5])\n",
    "    if name in apple_unique_app and reviews > apple_unique_app[name]:\n",
    "        apple_unique_app[name] = reviews\n",
    "    elif name not in apple_unique_app:\n",
    "        apple_unique_app[name] = reviews\n",
    "        \n",
    "print(\"Number of unique iOS apps extracted: \", len(apple_unique_app))\n",
    "\n",
    "unique_apple = []\n",
    "already_added = []\n",
    "for each_row in ios[1:]:\n",
    "    name = each_row[1]\n",
    "    review = float(each_row[5])\n",
    "    if apple_unique_app[name] == review and name not in already_added:\n",
    "        unique_apple.append(each_row)\n",
    "        already_added.append(name)\n",
    "\n",
    "print(\"Number of App Store apps :\", len(unique_apple))\n",
    "        "
   ]
  },
  {
   "cell_type": "markdown",
   "metadata": {
    "collapsed": true
   },
   "source": [
    "### Removing Non-English Apps\n",
    "\n",
    "There are several non-english apps in both the data set. For example:\n",
    "\n",
    "['Cъновник BG', 'BOOKS_AND_REFERENCE', 'NaN', '13', '4.1M', '1,000+', 'Free', '0', 'Everyone', 'Books & Reference', 'January 21, 2017', '250', '4.0 and up']\n",
    "\n",
    "['뽕티비 - 개인방송, 인터넷방송, BJ방송', 'VIDEO_PLAYERS', 'NaN', '414', '59M', '100,000+', 'Free', '0', 'Mature 17+', 'Video Players & Editors', 'July 18, 2018', '4.0.7', '4.0.3 and up']\n",
    "\n",
    "['BL 女性向け恋愛ゲーム◆俺プリクロス', 'FAMILY', '4.2', '3379', '62M', '100,000+', 'Free', '0', 'Mature 17+', 'Simulation', 'March 23, 2017', '1.6.3', '2.3.3 and up']\n",
    "\n",
    "This project mainly caters to English speaking audience and hence it makes no sense to analyse app's that are not in English. So as part of data cleaning, we will remove all the non-english apps.\n",
    "\n",
    "Each alphabet we type in computer corresponds to a number called \"ASCII\" value. The texts we normally use in English(letters, numbers, punctutaions and other symbols) sits in the ASCII range of 0 - 127.\n",
    "\n",
    "The logic is to go through each row on both the data sets and extract the name of the app and check if the ASCII value of each of their characters are > 127. if it's greater than 127 we will remove those apps.\n",
    "\n",
    "However certain English apps still have some characters in their name whose ASCII value are greater than 127. For example:\n",
    "\n",
    "['**FlirtChat - ♥Free Dating/Flirting App♥**', 'DATING', '4.3', '2433', '13M', '500,000+', 'Free', '0', 'Mature 17+', 'Dating', 'July 26, 2018', '12.0.4', '4.1 and up']\n",
    "\n",
    "if you see the app above,  we are sure that the app is English but the ASCII value of  two ♥ characters we have in the name, is 9829. So going by our rule, our code will also remove apps like these, since one of the characters in the name field has ASCII value greateer than 127.\n",
    "\n",
    "So we will modify our code in such a way that, our program will remove the apps only if the app name have more than 3 ASCII characters whose values are greater than 127. By this way we can keep most of the english apps that have special characters in their names like we saw above. \n"
   ]
  },
  {
   "cell_type": "code",
   "execution_count": null,
   "metadata": {
    "collapsed": false
   },
   "outputs": [],
   "source": [
    "##Removing non-English app from the Google Play\n",
    "google_english = []\n",
    "for each_app in unique_google:\n",
    "    name = each_app[0]\n",
    "    count = 0\n",
    "    for each in name:\n",
    "        if ord(each) > 127:\n",
    "            count += 1\n",
    "    if count <= 3:\n",
    "        google_english.append(each_app)\n",
    "        \n",
    "print(\"Number of English apps in the Goole Play: \", len(google_english))"
   ]
  },
  {
   "cell_type": "markdown",
   "metadata": {},
   "source": [
    "As we see, against the original 9659 apps we are left with 9614 apps after removing the non-english apps. Now lets do the same for apps in the App Store"
   ]
  },
  {
   "cell_type": "code",
   "execution_count": null,
   "metadata": {
    "collapsed": false
   },
   "outputs": [],
   "source": [
    "##Removing non-English app from the App Store\n",
    "ios_english = []\n",
    "for each_app in unique_apple:\n",
    "    name = each_app[1]\n",
    "    count = 0\n",
    "    for each in name:\n",
    "        if ord(each) > 127:\n",
    "            count += 1\n",
    "    if count <= 3:\n",
    "        ios_english.append(each_app)\n",
    "        \n",
    "print(\"Number of English apps in the App Store: \", len(ios_english))"
   ]
  },
  {
   "cell_type": "markdown",
   "metadata": {},
   "source": [
    "So we have removed quite a few apps from the App Store and finally left with 6181 english apps.\n",
    "\n",
    "Our code may still have few non english apps and there is also a possibility that we might have left few english apps, but that should not have any significant bearing in the outcome of our analysis.\n",
    "\n",
    "### Removing paid Apps\n",
    "\n",
    "Almost all the freelancers that we know of, wants to build only free apps since that will bring in more number of users against a paid one for which users expectations will be higher and also require significant maintenance costs. Most of the freelancers are students and hence they prefer developing a free app.\n",
    "\n",
    "So success of any free app depends up on the number of users downloads it and the revenue comes form the in-app ads. So more the number of users download and use the app, more is the revenue.\n",
    "\n",
    "So for the reasons said above, we will remove the paid apps from both the data sets.\n"
   ]
  },
  {
   "cell_type": "code",
   "execution_count": null,
   "metadata": {
    "collapsed": false,
    "scrolled": false
   },
   "outputs": [],
   "source": [
    "## Removing paid apps from the google data set\n",
    "android_final = []\n",
    "for each_app in google_english:\n",
    "    if each_app[7] == \"0\":\n",
    "        android_final.append(each_app)\n",
    "\n",
    "print(\"Number of Android apps after cleaning: \", len(android_final))\n",
    "\n",
    "## Removing paid apps from the apple data set\n",
    "ios_final = []\n",
    "for each_app in ios_english:\n",
    "    if each_app[4] == \"0.0\":\n",
    "        ios_final.append(each_app)\n",
    "print(\"Number of iOS apps after cleaning: \", len(ios_final))    "
   ]
  },
  {
   "cell_type": "markdown",
   "metadata": {},
   "source": [
    "After removing the paid apps, we are left with 8864 Android apps and 3220 iOS apps.\n",
    "\n",
    "With this, the data cleaning process is complete."
   ]
  },
  {
   "cell_type": "markdown",
   "metadata": {},
   "source": [
    "## Data Analysis\n",
    "\n",
    "As said in the introduction, our goal is to find the type of apps that will be profitable on both the markets. Since we are dealing only with free apps, the revenue of any free apps depends on the number of users using the app.\n",
    "\n",
    "### Most Common App by Genre\n",
    "\n",
    "So lets start our data analysis by.finding what genre of apps are very common on two markets. The genre information for Android is on index 9 and for iOS it is on index 11.\n",
    "\n",
    "We will be creating two functions ; one to create a frequency table for any rows we want and the next function to sort and print the frequenct table in descending order so that it wil be readable."
   ]
  },
  {
   "cell_type": "code",
   "execution_count": null,
   "metadata": {
    "collapsed": true
   },
   "outputs": [],
   "source": [
    "## Function to create frequency table\n",
    "def freq_table(dataset, index):\n",
    "    frequency_table = {}\n",
    "    for each_app in dataset:\n",
    "        column = each_app[index]\n",
    "        if column in frequency_table:\n",
    "            frequency_table[column] += 1\n",
    "        else:\n",
    "            frequency_table[column] = 1\n",
    "            \n",
    "    for each_item in frequency_table:\n",
    "        frequency_table[each_item] /= len(dataset)\n",
    "        frequency_table[each_item] *= 100\n",
    "        \n",
    "    return frequency_table\n",
    "\n",
    "## Function to sort the above frequency table in descending order\n",
    "def sort(dataset, index):\n",
    "    frequency_table = freq_table(dataset, index)\n",
    "    list_freq = []\n",
    "    for each in frequency_table:\n",
    "        freq_temp = [frequency_table[each], each]\n",
    "        list_freq.append(freq_temp)\n",
    "        \n",
    "    sort_freq = sorted(list_freq, reverse = True)\n",
    "    for each in sort_freq:\n",
    "        print(each[1], \" : \", each[0])"
   ]
  },
  {
   "cell_type": "code",
   "execution_count": null,
   "metadata": {
    "collapsed": false,
    "scrolled": true
   },
   "outputs": [],
   "source": [
    "sort(ios_final, 11)"
   ]
  },
  {
   "cell_type": "markdown",
   "metadata": {},
   "source": [
    "As we see, among the Free English apps more than half(58 %) of them belongs to *Games* category, followed by *Entertainment* at a distant second (~ 8 %). *Photo & Video* takes 3rd place with ~ 9%. \n",
    "\n",
    "So we can see that almost 70% of the apps belongs to fun category(Games, Entertainment, Photos).\n",
    "\n",
    "Now lets take a look at Android market."
   ]
  },
  {
   "cell_type": "code",
   "execution_count": null,
   "metadata": {
    "collapsed": false
   },
   "outputs": [],
   "source": [
    "sort(android_final, 9)"
   ]
  },
  {
   "cell_type": "markdown",
   "metadata": {},
   "source": [
    "Unlike App Store which are dominated by Fun apps, The Google Play store has balanced landscape with both fun(entertainment, lifestyle) and apps designed for productivity purposes(tools, education) in the top.\n",
    "\n",
    "However, we also need to understand that on both Google Play and App Store markets, genres with most proportion may or may not have highest number of users(downloads) as well. The demand might not be same as supply.\n",
    "\n",
    "### App with most users\n",
    "\n",
    "Now lets figure out the genre of apps with most users.\n",
    "\n",
    "If you see the App Store data set there is no column that gives the information about the number of users/downloads. So what we will do instead is use column number 5, which is the total number of reviews which kind of gives us an idea about its popularity.\n"
   ]
  },
  {
   "cell_type": "code",
   "execution_count": null,
   "metadata": {
    "collapsed": false
   },
   "outputs": [],
   "source": [
    "## Finding Apps of Genre with most users on App Store\n",
    "most_apps = {}\n",
    "temp_add = {}\n",
    "for each_app in ios_final:\n",
    "    rating_count = float(each_app[5])\n",
    "    genre = each_app[11]\n",
    "    if genre in most_apps:\n",
    "        most_apps[genre] *= temp_add[genre]\n",
    "        most_apps[genre] += rating_count\n",
    "        temp_add[genre] += 1\n",
    "        most_apps[genre] /= temp_add[genre]\n",
    "    \n",
    "    else:\n",
    "        most_apps[genre] = rating_count\n",
    "        temp_add[genre] = 1\n",
    "\n",
    "as_list = []\n",
    "for each in most_apps:\n",
    "    temp_list = [most_apps[each], each]\n",
    "    as_list.append(temp_list)\n",
    "    \n",
    "for each_app in sorted(as_list, reverse = True):\n",
    "    print(each_app[1], \" : \", each_app[0])\n",
    "    "
   ]
  },
  {
   "cell_type": "markdown",
   "metadata": {},
   "source": [
    "*Navigation* apps has the highest number of reviews on average. However after analysing further in detail, we could see that the average was due to *Waze* and *Google Maps* which has more than 95% of total reviews."
   ]
  },
  {
   "cell_type": "code",
   "execution_count": null,
   "metadata": {
    "collapsed": false,
    "scrolled": true
   },
   "outputs": [],
   "source": [
    "for each in ios_final:\n",
    "    if each[11] == \"Navigation\":\n",
    "        print(each[1], \" :\", each[5])\n",
    "        print(\"\\n\")"
   ]
  },
  {
   "cell_type": "markdown",
   "metadata": {},
   "source": [
    "We notice the same trend in *Social Networking* and *Music* genre as well. Social Networking is dominated by Facebook and Pinterest and Music category is dominated by Pandora and Spotify. It is impossible for a freelancer to compete against these giants in this category and succeed, because all these are very successful products with millions of users in real time. Same thing goes for *Food* and *Finance* category which is dominated by giants in those field.\n",
    "\n",
    "Reference category has 74942 reviews on average. On looking further, Bible and Dictionary tops the list with most reviews."
   ]
  },
  {
   "cell_type": "code",
   "execution_count": null,
   "metadata": {
    "collapsed": false
   },
   "outputs": [],
   "source": [
    "for each in ios_final:\n",
    "    if each[11] == \"Reference\":\n",
    "        print(each[1], \" :\", each[5])\n",
    "        print(\"\\n\")"
   ]
  },
  {
   "cell_type": "markdown",
   "metadata": {},
   "source": [
    "This catgory seems interesting. What we can do is take one or more popular book and turn into an app. We can add many different features like quiz, quotes, links to any news aboust the book on the web. We also can include audio version of the book.\n",
    "\n",
    "Another interesting thing we can do is to have an in built Dictionary inside the app itself so the user dont have to exit the app to look for meaning.\n",
    "\n",
    "Now lets find in Goole Play the genre of apps with most users."
   ]
  },
  {
   "cell_type": "code",
   "execution_count": null,
   "metadata": {
    "collapsed": false
   },
   "outputs": [],
   "source": [
    "## Finding Apps of Genre with most users on Google Play\n",
    "most_apps = {}\n",
    "temp_add = {}\n",
    "for each_app in android_final:\n",
    "    rating_count = each_app[5]\n",
    "    rating_count = rating_count.replace(\"+\", \"\")\n",
    "    rating_count = rating_count.replace(\",\", \"\")\n",
    "    rating_count = float(rating_count)\n",
    "    genre = each_app[9]\n",
    "    if genre in most_apps:\n",
    "        most_apps[genre] *= temp_add[genre]\n",
    "        most_apps[genre] += rating_count\n",
    "        temp_add[genre] += 1\n",
    "        most_apps[genre] /= temp_add[genre]\n",
    "    \n",
    "    else:\n",
    "        most_apps[genre] = rating_count\n",
    "        temp_add[genre] = 1\n",
    "\n",
    "as_list = []\n",
    "for each in most_apps:\n",
    "    temp_list = [most_apps[each], each]\n",
    "    as_list.append(temp_list)\n",
    "    \n",
    "for each_app in sorted(as_list, reverse = True):\n",
    "    print(each_app[1], \" : \", each_app[0])"
   ]
  },
  {
   "cell_type": "markdown",
   "metadata": {},
   "source": [
    "*Communication* tops the list with average install of 38 million. However same like App Store market, most number of installs belong to  *WhatsAPP*, *Skype*, *Messenger* and few more apps which have more than 1 billion installs."
   ]
  },
  {
   "cell_type": "code",
   "execution_count": null,
   "metadata": {
    "collapsed": false
   },
   "outputs": [],
   "source": [
    "for each in android_final:\n",
    "    if each[9] == \"Communication\":\n",
    "        rating = each[5]\n",
    "        rating = rating.replace(\"+\", \"\")\n",
    "        rating = rating.replace(\",\",\"\")\n",
    "        rating = float(rating)\n",
    "        if rating > 100000000:\n",
    "            print(each[0], \" : \", each[5])"
   ]
  },
  {
   "cell_type": "markdown",
   "metadata": {},
   "source": [
    "So *Communication* Apps seems to be more popular than they really are. If you exclude the Communications apps with more than 10 million installs, the average installs reduce to 0.7 million."
   ]
  },
  {
   "cell_type": "code",
   "execution_count": null,
   "metadata": {
    "collapsed": false
   },
   "outputs": [],
   "source": [
    "#average rating by excluding > 10 million apps\n",
    "ratings = []\n",
    "for each in android_final:\n",
    "    if each[9] == \"Communication\":\n",
    "        rating = each[5]\n",
    "        rating = rating.replace(\"+\", \"\")\n",
    "        rating = rating.replace(\",\",\"\")\n",
    "        rating = float(rating)\n",
    "        if rating < 10000000:\n",
    "            ratings.append(rating)\n",
    "\n",
    "print(\"Average installs of communication apps ater excluding apps greater than 10 million installs: \",sum(ratings) / len(ratings))"
   ]
  },
  {
   "cell_type": "markdown",
   "metadata": {},
   "source": [
    "The Genre after *Communication* is *Adventure;Action & Adventure* which only have 3 apps which dont give much information for our analysis and hence we skip that."
   ]
  },
  {
   "cell_type": "code",
   "execution_count": null,
   "metadata": {
    "collapsed": false,
    "scrolled": true
   },
   "outputs": [],
   "source": [
    "for each in android_final:\n",
    "    if each[9] == \"Adventure;Action & Adventure\":\n",
    "        print(each[0], \" : \", each[5])"
   ]
  },
  {
   "cell_type": "markdown",
   "metadata": {},
   "source": [
    "The other top Genres in the list, also follows similar pattern like Communications apps where only the few giants in the field have almost all the installs. For example *Youtube*  and *Google Play* have more than *1 billion* in the *Video Players & Editors Genre*."
   ]
  },
  {
   "cell_type": "code",
   "execution_count": null,
   "metadata": {
    "collapsed": false
   },
   "outputs": [],
   "source": [
    "ratings = []\n",
    "for each in android_final:\n",
    "    if each[9] == \"Video Players & Editors\":\n",
    "        rating = each[5]\n",
    "        rating = rating.replace(\"+\", \"\")\n",
    "        rating = rating.replace(\",\",\"\")\n",
    "        rating = float(rating)\n",
    "        if rating > 100000000:\n",
    "            print(each[0], \" : \", each[5])"
   ]
  },
  {
   "cell_type": "markdown",
   "metadata": {},
   "source": [
    "*Books & Reference* genre have nearly 9 million installs. We would like to explore this in detail as we found this genre has some potential in App Store, and hence would like to see how it fairs in the Google Play market.`\n"
   ]
  },
  {
   "cell_type": "code",
   "execution_count": null,
   "metadata": {
    "collapsed": false
   },
   "outputs": [],
   "source": [
    "for each in android_final:\n",
    "    if each[9] == \"Books & Reference\":\n",
    "        print(each[0], \" : \", each[5])"
   ]
  },
  {
   "cell_type": "markdown",
   "metadata": {},
   "source": [
    "Books & Reference section seems to have varierty of apps like Ebook, Dictionary, programming language etc.\n",
    "\n",
    "We also see successful apps built around Bible and Quran which suggests that taking a recent popular book and turning into an app will be profitable.\n",
    "\n",
    "Instead of having a raw version of the book, we should add different features to make it more interesting. For example: quizzes, quote of the day, news and interviews regarding the book, audio version and an inbuild dictionary to name a few.\n",
    "\n",
    "## Conclusion\n",
    "\n",
    "In this project, we analysed data about Google Play and App Store inorder to recommend the genre of apps which will be successful on both markets.\n",
    "\n",
    "Baes on our analysis we recommend taking a recent popular book and turning into an app will be profitable. Inorder to make the app more appealing to users, we should add different features like audio version of the book, daily quizzes from the book, link to news item or interviews about the book, in-built dictionary and a forum inorder to encourage discussion about the book."
   ]
  }
 ],
 "metadata": {
  "kernelspec": {
   "display_name": "Python 3",
   "language": "python",
   "name": "python3"
  },
  "language_info": {
   "codemirror_mode": {
    "name": "ipython",
    "version": 3
   },
   "file_extension": ".py",
   "mimetype": "text/x-python",
   "name": "python",
   "nbconvert_exporter": "python",
   "pygments_lexer": "ipython3",
   "version": "3.4.3"
  }
 },
 "nbformat": 4,
 "nbformat_minor": 2
}
